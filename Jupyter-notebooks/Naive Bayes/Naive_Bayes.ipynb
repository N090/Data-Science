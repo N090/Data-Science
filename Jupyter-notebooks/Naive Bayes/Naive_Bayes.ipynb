{
 "cells": [
  {
   "cell_type": "code",
   "execution_count": 35,
   "metadata": {},
   "outputs": [],
   "source": [
    "import numpy as np\n",
    "import pandas as pd"
   ]
  },
  {
   "cell_type": "code",
   "execution_count": 36,
   "metadata": {},
   "outputs": [],
   "source": [
    "# Load the dataset\n",
    "data = pd.read_csv(\"Sleep_health_and_lifestyle_dataset.csv\")\n"
   ]
  },
  {
   "cell_type": "code",
   "execution_count": 37,
   "metadata": {},
   "outputs": [],
   "source": [
    "# Function to make categorical columns into labelled columns\n",
    "def makelabelled(column):\n",
    "    second_limit = column.mean()\n",
    "    first_limit = 0.5 * second_limit\n",
    "    third_limit = 1.5 * second_limit\n",
    "    for i in range(0,len(column)):\n",
    "        if(column[i]<first_limit):\n",
    "            column[i] = 0\n",
    "        elif(column[i] < second_limit):\n",
    "            column[i] = 1\n",
    "        elif(column[i]<third_limit):\n",
    "            column[i] = 2\n",
    "        else:\n",
    "            column[i] = 3\n",
    "    return column"
   ]
  },
  {
   "cell_type": "code",
   "execution_count": 38,
   "metadata": {},
   "outputs": [],
   "source": [
    "# Function to fit the Multinomial Naive Bayes model\n",
    "def fit(X_train, Y_train):\n",
    "    result = {}\n",
    "    class_values = set(Y_train)\n",
    "    for curr_value in class_values:\n",
    "        result[curr_value] = {}\n",
    "        result[\"total_data\"] = len(Y_train)\n",
    "        curr_class_rows = (Y_train == curr_value)\n",
    "        X_train_curr = X_train[curr_class_rows]\n",
    "        Y_train_curr = Y_train[curr_class_rows]\n",
    "        num_features = X_train.shape[1]\n",
    "        result[curr_value][\"total_count\"] = len(Y_train_curr)\n",
    "        for j in range(1, num_features + 1):\n",
    "            result[curr_value][j] = {}\n",
    "            all_possible_values = set(X_train[:, j - 1])\n",
    "            for this_value in all_possible_values:\n",
    "                result[curr_value][j][this_value] = (X_train_curr[:, j - 1] == this_value).sum()\n",
    "    return result"
   ]
  },
  {
   "cell_type": "code",
   "execution_count": 39,
   "metadata": {},
   "outputs": [],
   "source": [
    "# Function to calculate probability for a single data point\n",
    "def probability(dictionary, x, current_class):\n",
    "    output = np.log(dictionary[current_class][\"total_count\"]) - np.log(dictionary[\"total_data\"])\n",
    "    num_features = len(dictionary[current_class].keys()) - 1\n",
    "    for j in range(1, num_features + 1):\n",
    "        xj = x[j - 1]\n",
    "        count_current_class_with_value_xj = dictionary[current_class][j][xj] + 1\n",
    "        count_current_class = dictionary[current_class][\"total_count\"] + len(dictionary[current_class][j].keys())\n",
    "        current_xj_prob = np.log(count_current_class_with_value_xj) - np.log(count_current_class)\n",
    "        output = output + current_xj_prob\n",
    "    return output"
   ]
  },
  {
   "cell_type": "code",
   "execution_count": 40,
   "metadata": {},
   "outputs": [],
   "source": [
    "# Function to predict the class for a single data point\n",
    "def predictSinglePoint(dictionary, x):\n",
    "    classes = dictionary.keys()\n",
    "    best_p = -1000\n",
    "    best_class = -1\n",
    "    first_run = True\n",
    "    for current_class in classes:\n",
    "        if current_class == \"total_data\":\n",
    "            continue\n",
    "        p_curr_class = probability(dictionary, x, current_class)\n",
    "        if first_run or p_curr_class > best_p:\n",
    "            best_p = p_curr_class\n",
    "            best_class = current_class\n",
    "        first_run = False\n",
    "    return best_class\n",
    "\n"
   ]
  },
  {
   "cell_type": "code",
   "execution_count": 41,
   "metadata": {},
   "outputs": [],
   "source": [
    "# Function to predict classes for multiple data points\n",
    "def predict(dictionary, X_test):\n",
    "    Y_pred = []\n",
    "    for x in X_test:\n",
    "        x_class = predictSinglePoint(dictionary, x)\n",
    "        Y_pred.append(x_class)\n",
    "    return Y_pred"
   ]
  },
  {
   "cell_type": "code",
   "execution_count": 42,
   "metadata": {},
   "outputs": [],
   "source": [
    "# Convert categorical columns to numerical labels\n",
    "from sklearn.preprocessing import LabelEncoder\n",
    "label_encoders = {}\n",
    "for column in [\"Gender\", \"Occupation\", \"BMI Category\"]:\n",
    "    label_encoders[column] = LabelEncoder()\n",
    "    data[column] = label_encoders[column].fit_transform(data[column])\n"
   ]
  },
  {
   "cell_type": "code",
   "execution_count": 43,
   "metadata": {},
   "outputs": [],
   "source": [
    "# Convert blood pressure column to numerical labels\n",
    "data['Blood Pressure'] = data['Blood Pressure'].apply(lambda x: x.split('/')[0] if isinstance(x, str) else x).astype(float)\n",
    "\n",
    "# Now you can proceed with the label encoding\n",
    "label_encoders['Blood Pressure'] = LabelEncoder()\n",
    "data['Blood Pressure'] = label_encoders['Blood Pressure'].fit_transform(data['Blood Pressure'])\n"
   ]
  },
  {
   "cell_type": "code",
   "execution_count": 44,
   "metadata": {},
   "outputs": [],
   "source": [
    "# Prepare X and y\n",
    "X = data.drop([\"Person ID\", \"Quality of Sleep\"], axis=1).values\n",
    "y = data[\"Quality of Sleep\"].values"
   ]
  },
  {
   "cell_type": "code",
   "execution_count": 45,
   "metadata": {},
   "outputs": [],
   "source": [
    "# Split data into train and test sets\n",
    "from sklearn.model_selection import train_test_split\n",
    "X_train, X_test, Y_train, Y_test = train_test_split(X, y, test_size=0.25, random_state=0)"
   ]
  },
  {
   "cell_type": "code",
   "execution_count": 46,
   "metadata": {},
   "outputs": [],
   "source": [
    "# Fit the model\n",
    "dictionary = fit(X_train, Y_train)"
   ]
  },
  {
   "cell_type": "code",
   "execution_count": 51,
   "metadata": {},
   "outputs": [],
   "source": [
    "# Function to predict the class for a single data point\n",
    "def predictSinglePoint(dictionary, x):\n",
    "    classes = dictionary.keys()\n",
    "    best_p = -1000\n",
    "    best_class = -1\n",
    "    first_run = True\n",
    "    for current_class in classes:\n",
    "        if current_class == \"total_data\":\n",
    "            continue\n",
    "        p_curr_class = probability(dictionary, x, current_class)\n",
    "        print(\"Current class:\", current_class)\n",
    "        print(\"Dictionary keys:\", dictionary[current_class].keys())\n",
    "        print(\"x:\", x)\n",
    "        if first_run or p_curr_class > best_p:\n",
    "            best_p = p_curr_class\n",
    "            best_class = current_class\n",
    "        first_run = False\n",
    "    return best_class\n"
   ]
  },
  {
   "cell_type": "code",
   "execution_count": 52,
   "metadata": {},
   "outputs": [
    {
     "name": "stdout",
     "output_type": "stream",
     "text": [
      "Current class: 4\n",
      "Dictionary keys: dict_keys(['total_count', 1, 2, 3, 4, 5, 6, 7, 8, 9, 10, 11])\n",
      "x: [0 37 0 7.2 60 4 0 0 68 7000 nan]\n",
      "Current class: 5\n",
      "Dictionary keys: dict_keys(['total_count', 1, 2, 3, 4, 5, 6, 7, 8, 9, 10, 11])\n",
      "x: [0 37 0 7.2 60 4 0 0 68 7000 nan]\n",
      "Current class: 6\n",
      "Dictionary keys: dict_keys(['total_count', 1, 2, 3, 4, 5, 6, 7, 8, 9, 10, 11])\n",
      "x: [0 37 0 7.2 60 4 0 0 68 7000 nan]\n",
      "Current class: 7\n",
      "Dictionary keys: dict_keys(['total_count', 1, 2, 3, 4, 5, 6, 7, 8, 9, 10, 11])\n",
      "x: [0 37 0 7.2 60 4 0 0 68 7000 nan]\n",
      "Current class: 8\n",
      "Dictionary keys: dict_keys(['total_count', 1, 2, 3, 4, 5, 6, 7, 8, 9, 10, 11])\n",
      "x: [0 37 0 7.2 60 4 0 0 68 7000 nan]\n",
      "Current class: 9\n",
      "Dictionary keys: dict_keys(['total_count', 1, 2, 3, 4, 5, 6, 7, 8, 9, 10, 11])\n",
      "x: [0 37 0 7.2 60 4 0 0 68 7000 nan]\n",
      "Current class: 4\n",
      "Dictionary keys: dict_keys(['total_count', 1, 2, 3, 4, 5, 6, 7, 8, 9, 10, 11])\n",
      "x: [0 50 5 6.0 90 8 3 16 75 10000 'Sleep Apnea']\n",
      "Current class: 5\n",
      "Dictionary keys: dict_keys(['total_count', 1, 2, 3, 4, 5, 6, 7, 8, 9, 10, 11])\n",
      "x: [0 50 5 6.0 90 8 3 16 75 10000 'Sleep Apnea']\n",
      "Current class: 6\n",
      "Dictionary keys: dict_keys(['total_count', 1, 2, 3, 4, 5, 6, 7, 8, 9, 10, 11])\n",
      "x: [0 50 5 6.0 90 8 3 16 75 10000 'Sleep Apnea']\n",
      "Current class: 7\n",
      "Dictionary keys: dict_keys(['total_count', 1, 2, 3, 4, 5, 6, 7, 8, 9, 10, 11])\n",
      "x: [0 50 5 6.0 90 8 3 16 75 10000 'Sleep Apnea']\n",
      "Current class: 8\n",
      "Dictionary keys: dict_keys(['total_count', 1, 2, 3, 4, 5, 6, 7, 8, 9, 10, 11])\n",
      "x: [0 50 5 6.0 90 8 3 16 75 10000 'Sleep Apnea']\n",
      "Current class: 9\n",
      "Dictionary keys: dict_keys(['total_count', 1, 2, 3, 4, 5, 6, 7, 8, 9, 10, 11])\n",
      "x: [0 50 5 6.0 90 8 3 16 75 10000 'Sleep Apnea']\n",
      "Current class: 4\n",
      "Dictionary keys: dict_keys(['total_count', 1, 2, 3, 4, 5, 6, 7, 8, 9, 10, 11])\n",
      "x: [0 52 0 6.6 45 7 3 11 72 6000 'Insomnia']\n",
      "Current class: 5\n",
      "Dictionary keys: dict_keys(['total_count', 1, 2, 3, 4, 5, 6, 7, 8, 9, 10, 11])\n",
      "x: [0 52 0 6.6 45 7 3 11 72 6000 'Insomnia']\n",
      "Current class: 6\n",
      "Dictionary keys: dict_keys(['total_count', 1, 2, 3, 4, 5, 6, 7, 8, 9, 10, 11])\n",
      "x: [0 52 0 6.6 45 7 3 11 72 6000 'Insomnia']\n",
      "Current class: 7\n",
      "Dictionary keys: dict_keys(['total_count', 1, 2, 3, 4, 5, 6, 7, 8, 9, 10, 11])\n",
      "x: [0 52 0 6.6 45 7 3 11 72 6000 'Insomnia']\n",
      "Current class: 8\n",
      "Dictionary keys: dict_keys(['total_count', 1, 2, 3, 4, 5, 6, 7, 8, 9, 10, 11])\n",
      "x: [0 52 0 6.6 45 7 3 11 72 6000 'Insomnia']\n",
      "Current class: 9\n",
      "Dictionary keys: dict_keys(['total_count', 1, 2, 3, 4, 5, 6, 7, 8, 9, 10, 11])\n",
      "x: [0 52 0 6.6 45 7 3 11 72 6000 'Insomnia']\n",
      "Current class: 4\n",
      "Dictionary keys: dict_keys(['total_count', 1, 2, 3, 4, 5, 6, 7, 8, 9, 10, 11])\n",
      "x: [1 43 2 7.7 90 5 0 11 70 8000 nan]\n",
      "Current class: 5\n",
      "Dictionary keys: dict_keys(['total_count', 1, 2, 3, 4, 5, 6, 7, 8, 9, 10, 11])\n",
      "x: [1 43 2 7.7 90 5 0 11 70 8000 nan]\n",
      "Current class: 6\n",
      "Dictionary keys: dict_keys(['total_count', 1, 2, 3, 4, 5, 6, 7, 8, 9, 10, 11])\n",
      "x: [1 43 2 7.7 90 5 0 11 70 8000 nan]\n",
      "Current class: 7\n",
      "Dictionary keys: dict_keys(['total_count', 1, 2, 3, 4, 5, 6, 7, 8, 9, 10, 11])\n",
      "x: [1 43 2 7.7 90 5 0 11 70 8000 nan]\n",
      "Current class: 8\n",
      "Dictionary keys: dict_keys(['total_count', 1, 2, 3, 4, 5, 6, 7, 8, 9, 10, 11])\n",
      "x: [1 43 2 7.7 90 5 0 11 70 8000 nan]\n",
      "Current class: 9\n",
      "Dictionary keys: dict_keys(['total_count', 1, 2, 3, 4, 5, 6, 7, 8, 9, 10, 11])\n",
      "x: [1 43 2 7.7 90 5 0 11 70 8000 nan]\n"
     ]
    },
    {
     "ename": "KeyError",
     "evalue": "6",
     "output_type": "error",
     "traceback": [
      "\u001b[1;31m---------------------------------------------------------------------------\u001b[0m",
      "\u001b[1;31mKeyError\u001b[0m                                  Traceback (most recent call last)",
      "Cell \u001b[1;32mIn [52], line 2\u001b[0m\n\u001b[0;32m      1\u001b[0m \u001b[38;5;66;03m# Predictions\u001b[39;00m\n\u001b[1;32m----> 2\u001b[0m Y_pred \u001b[38;5;241m=\u001b[39m \u001b[43mpredict\u001b[49m\u001b[43m(\u001b[49m\u001b[43mdictionary\u001b[49m\u001b[43m,\u001b[49m\u001b[43m \u001b[49m\u001b[43mX_test\u001b[49m\u001b[43m)\u001b[49m\n",
      "Cell \u001b[1;32mIn [41], line 5\u001b[0m, in \u001b[0;36mpredict\u001b[1;34m(dictionary, X_test)\u001b[0m\n\u001b[0;32m      3\u001b[0m Y_pred \u001b[38;5;241m=\u001b[39m []\n\u001b[0;32m      4\u001b[0m \u001b[38;5;28;01mfor\u001b[39;00m x \u001b[38;5;129;01min\u001b[39;00m X_test:\n\u001b[1;32m----> 5\u001b[0m     x_class \u001b[38;5;241m=\u001b[39m \u001b[43mpredictSinglePoint\u001b[49m\u001b[43m(\u001b[49m\u001b[43mdictionary\u001b[49m\u001b[43m,\u001b[49m\u001b[43m \u001b[49m\u001b[43mx\u001b[49m\u001b[43m)\u001b[49m\n\u001b[0;32m      6\u001b[0m     Y_pred\u001b[38;5;241m.\u001b[39mappend(x_class)\n\u001b[0;32m      7\u001b[0m \u001b[38;5;28;01mreturn\u001b[39;00m Y_pred\n",
      "Cell \u001b[1;32mIn [51], line 10\u001b[0m, in \u001b[0;36mpredictSinglePoint\u001b[1;34m(dictionary, x)\u001b[0m\n\u001b[0;32m      8\u001b[0m \u001b[38;5;28;01mif\u001b[39;00m current_class \u001b[38;5;241m==\u001b[39m \u001b[38;5;124m\"\u001b[39m\u001b[38;5;124mtotal_data\u001b[39m\u001b[38;5;124m\"\u001b[39m:\n\u001b[0;32m      9\u001b[0m     \u001b[38;5;28;01mcontinue\u001b[39;00m\n\u001b[1;32m---> 10\u001b[0m p_curr_class \u001b[38;5;241m=\u001b[39m \u001b[43mprobability\u001b[49m\u001b[43m(\u001b[49m\u001b[43mdictionary\u001b[49m\u001b[43m,\u001b[49m\u001b[43m \u001b[49m\u001b[43mx\u001b[49m\u001b[43m,\u001b[49m\u001b[43m \u001b[49m\u001b[43mcurrent_class\u001b[49m\u001b[43m)\u001b[49m\n\u001b[0;32m     11\u001b[0m \u001b[38;5;28mprint\u001b[39m(\u001b[38;5;124m\"\u001b[39m\u001b[38;5;124mCurrent class:\u001b[39m\u001b[38;5;124m\"\u001b[39m, current_class)\n\u001b[0;32m     12\u001b[0m \u001b[38;5;28mprint\u001b[39m(\u001b[38;5;124m\"\u001b[39m\u001b[38;5;124mDictionary keys:\u001b[39m\u001b[38;5;124m\"\u001b[39m, dictionary[current_class]\u001b[38;5;241m.\u001b[39mkeys())\n",
      "Cell \u001b[1;32mIn [39], line 7\u001b[0m, in \u001b[0;36mprobability\u001b[1;34m(dictionary, x, current_class)\u001b[0m\n\u001b[0;32m      5\u001b[0m \u001b[38;5;28;01mfor\u001b[39;00m j \u001b[38;5;129;01min\u001b[39;00m \u001b[38;5;28mrange\u001b[39m(\u001b[38;5;241m1\u001b[39m, num_features \u001b[38;5;241m+\u001b[39m \u001b[38;5;241m1\u001b[39m):\n\u001b[0;32m      6\u001b[0m     xj \u001b[38;5;241m=\u001b[39m x[j \u001b[38;5;241m-\u001b[39m \u001b[38;5;241m1\u001b[39m]\n\u001b[1;32m----> 7\u001b[0m     count_current_class_with_value_xj \u001b[38;5;241m=\u001b[39m \u001b[43mdictionary\u001b[49m\u001b[43m[\u001b[49m\u001b[43mcurrent_class\u001b[49m\u001b[43m]\u001b[49m\u001b[43m[\u001b[49m\u001b[43mj\u001b[49m\u001b[43m]\u001b[49m\u001b[43m[\u001b[49m\u001b[43mxj\u001b[49m\u001b[43m]\u001b[49m \u001b[38;5;241m+\u001b[39m \u001b[38;5;241m1\u001b[39m\n\u001b[0;32m      8\u001b[0m     count_current_class \u001b[38;5;241m=\u001b[39m dictionary[current_class][\u001b[38;5;124m\"\u001b[39m\u001b[38;5;124mtotal_count\u001b[39m\u001b[38;5;124m\"\u001b[39m] \u001b[38;5;241m+\u001b[39m \u001b[38;5;28mlen\u001b[39m(dictionary[current_class][j]\u001b[38;5;241m.\u001b[39mkeys())\n\u001b[0;32m      9\u001b[0m     current_xj_prob \u001b[38;5;241m=\u001b[39m np\u001b[38;5;241m.\u001b[39mlog(count_current_class_with_value_xj) \u001b[38;5;241m-\u001b[39m np\u001b[38;5;241m.\u001b[39mlog(count_current_class)\n",
      "\u001b[1;31mKeyError\u001b[0m: 6"
     ]
    }
   ],
   "source": [
    "# Predictions\n",
    "Y_pred = predict(dictionary, X_test)\n"
   ]
  },
  {
   "cell_type": "markdown",
   "metadata": {},
   "source": [
    "### Implememtation of Multinomial Naive Bayes from Scratch"
   ]
  },
  {
   "cell_type": "code",
   "execution_count": 48,
   "metadata": {},
   "outputs": [
    {
     "ename": "NameError",
     "evalue": "name 'Y_pred' is not defined",
     "output_type": "error",
     "traceback": [
      "\u001b[1;31m---------------------------------------------------------------------------\u001b[0m",
      "\u001b[1;31mNameError\u001b[0m                                 Traceback (most recent call last)",
      "Cell \u001b[1;32mIn [48], line 3\u001b[0m\n\u001b[0;32m      1\u001b[0m \u001b[38;5;66;03m# Evaluation\u001b[39;00m\n\u001b[0;32m      2\u001b[0m \u001b[38;5;28;01mfrom\u001b[39;00m \u001b[38;5;21;01msklearn\u001b[39;00m\u001b[38;5;21;01m.\u001b[39;00m\u001b[38;5;21;01mmetrics\u001b[39;00m \u001b[38;5;28;01mimport\u001b[39;00m classification_report, confusion_matrix\n\u001b[1;32m----> 3\u001b[0m \u001b[38;5;28mprint\u001b[39m(classification_report(Y_test, \u001b[43mY_pred\u001b[49m))\n\u001b[0;32m      4\u001b[0m \u001b[38;5;28mprint\u001b[39m(confusion_matrix(Y_test, Y_pred))\n",
      "\u001b[1;31mNameError\u001b[0m: name 'Y_pred' is not defined"
     ]
    }
   ],
   "source": [
    "\n",
    "# Evaluation\n",
    "from sklearn.metrics import classification_report, confusion_matrix\n",
    "print(classification_report(Y_test, Y_pred))\n",
    "print(confusion_matrix(Y_test, Y_pred))"
   ]
  }
 ],
 "metadata": {
  "kernelspec": {
   "display_name": "Python 3",
   "language": "python",
   "name": "python3"
  },
  "language_info": {
   "codemirror_mode": {
    "name": "ipython",
    "version": 3
   },
   "file_extension": ".py",
   "mimetype": "text/x-python",
   "name": "python",
   "nbconvert_exporter": "python",
   "pygments_lexer": "ipython3",
   "version": "3.10.11"
  }
 },
 "nbformat": 4,
 "nbformat_minor": 2
}
