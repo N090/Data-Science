{
  "cells": [
    {
      "cell_type": "markdown",
      "metadata": {
        "id": "9IaHS8Ic0ORZ"
      },
      "source": [
        "# Numbers Summation (using RNN LSTM)"
      ]
    },
    {
      "cell_type": "markdown",
      "metadata": {},
      "source": [
        "Nojus Satikauskas   \n",
        "C00261186 "
      ]
    },
    {
      "cell_type": "markdown",
      "metadata": {
        "id": "z8XGoOth0ORf"
      },
      "source": [
        "## Introduction"
      ]
    },
    {
      "cell_type": "markdown",
      "metadata": {
        "id": "W272wEmo0ORf"
      },
      "source": [
        "In this experiment we will use [Recurrent Neural Network](https://en.wikipedia.org/wiki/Recurrent_neural_network) (RNN) to sum up two numbers (each number is in a range of `[1, 99]`). The summation expression (i.e. `\"1+45\"` or `37+68`) that will be sent to the RNN _input_ will be treated as a **string** (sequence of characters) and the _output_ of the RNN will also be a string (i.e. `\"46\"` or `\"106\"`) - the sequence of characters that will represent the result of summation. This is a \"sequence-to-sequence\" version of RNN implementation. We will use LSTM ([Long Short-Term Memory](https://en.wikipedia.org/wiki/Long_short-term_memory)) recurent neural network for this task.\n",
        "\n",
        "For this experiment we will use [Tensorflow v2](https://www.tensorflow.org/) with its [Keras API](https://www.tensorflow.org/guide/keras).\n",
        "\n",
        "![numbers_summation_rnn.png](https://github.com/trekhleb/machine-learning-experiments/blob/master/demos/src/images/numbers_summation_rnn.png?raw=1)"
      ]
    },
    {
      "cell_type": "markdown",
      "metadata": {},
      "source": [
        "## Theory   \n",
        "RNN LSTM networks are specialized for sequence tasks, addressing the vanishing gradient problem. They use a memory cell controlled by gates to remember long-term dependencies. In the experiment, an LSTM-based RNN is trained to add two numbers represented as character sequences. The network employs an encoder-decoder architecture to process the input and generate the output sequence. By training on input-output pairs, the network learns to accurately predict the result of addition."
      ]
    },
    {
      "cell_type": "markdown",
      "metadata": {},
      "source": [
        "## Pros and Cons\n",
        "**Pros**    \n",
        "- Effective for handling sequential data: RNN LSTM networks excel at processing sequences due to their ability to capture long-term dependencies.   \n",
        "- Suitable for various sequence-to-sequence tasks: The encoder-decoder architecture allows RNN LSTMs to tackle tasks like translation, summarization, and generation where input and output are both sequences. \n",
        "- Robust memory retention: LSTM cells maintain a memory state, enabling the network to retain information over long sequences and mitigate the vanishing gradient problem.       \n",
        "\n",
        "**Cons**    \n",
        "- Computational complexity: Training RNN LSTM models can be computationally intensive, especially for large datasets and complex architectures, which may require substantial computational resources.  \n",
        "- Vulnerable to vanishing and exploding gradients: While LSTMs mitigate the vanishing gradient problem to some extent, it can still occur in deep or poorly configured networks, leading to training instability.   \n",
        "- Limited parallelization: RNN LSTM computations are inherently sequential, limiting their ability to take advantage of parallel processing architectures fully. This can result in slower training times compared to other network types."
      ]
    },
    {
      "cell_type": "markdown",
      "metadata": {},
      "source": [
        "## Chang Log\n",
        "\n",
        "### Change 1:   \n",
        "- Decreased the Epoch size to 100 from 200\n",
        "- Increased the Batch_size size to 256 from 128\n",
        "Results are as follows in accuracy: \n",
        "**Before**  \n",
        "Epoch 1/200\n",
        "36/36 ━━━━━━━━━━━━━━━━━━━━ 3s 24ms/step - accuracy: 0.1862 - loss: 2.3932 - val_accuracy: 0.3873 - val_loss: 2.0880\n",
        "Epoch 200/200\n",
        "36/36 ━━━━━━━━━━━━━━━━━━━━ 0s 13ms/step - accuracy: 1.0000 - loss: 0.0070 - val_accuracy: 0.9987 - val_loss: 0.0112\n",
        "**After**   \n",
        "Epoch 1/100\n",
        "18/18 ━━━━━━━━━━━━━━━━━━━━ 3s 41ms/step - accuracy: 0.1710 - loss: 2.4369 - val_accuracy: 0.1673 - val_loss: 2.2641\n",
        "Epoch 100/100\n",
        "18/18 ━━━━━━━━━━━━━━━━━━━━ 0s 20ms/step - accuracy: 0.8827 - loss: 0.4309 - val_accuracy: 0.8580 - val_loss: 0.4680 \n",
        "\n",
        "- Increasing the number of units in LSTM layers to 256 enhances the model's capacity to capture complex patterns but also escalates the risk of overfitting, where the model memorizes training data instead of generalizing, leading to poorer performance on new data.  \n",
        "- Reducing epochs from 200 to 100 limits the model's learning opportunities, hindering its ability to converge to an optimal solution and resulting in decreased accuracy due to insufficient training.\n",
        "\n",
        "### Change 2:\n",
        "- Adjust learning rate from (0.001) -> (0.003)  \n",
        "Results:\n",
        "**Before**  \n",
        "Epoch 1/100\n",
        "18/18 ━━━━━━━━━━━━━━━━━━━━ 3s 41ms/step - accuracy: 0.1710 - loss: 2.4369 - val_accuracy: 0.1673 - val_loss: 2.2641\n",
        "Epoch 100/100\n",
        "18/18 ━━━━━━━━━━━━━━━━━━━━ 0s 20ms/step - accuracy: 0.8827 - loss: 0.4309 - val_accuracy: 0.8580 - val_loss: 0.4680 \n",
        "**After**   \n",
        "Epoch 1/100\n",
        "18/18 ━━━━━━━━━━━━━━━━━━━━ 3s 40ms/step - accuracy: 0.1867 - loss: 2.3760 - val_accuracy: 0.3753 - val_loss: 2.1096\n",
        "Epoch 100/100\n",
        "18/18 ━━━━━━━━━━━━━━━━━━━━ 0s 22ms/step - accuracy: 0.9999 - loss: 0.0051 - val_accuracy: 0.9967 - val_loss: 0.0150 \n",
        "\n",
        "- During training, the model's convergence is usually accelerated by increasing the learning rate from 0.001 to 0.003. In this instance, the model most likely reached a lower training loss more quickly due to the increased learning rate. As a result, after modifying the learning rate, the model obtained greater accuracy on the training and validation sets, indicating enhanced performance and quicker learning.    \n",
        "\n",
        "### Change 3:\n",
        "- Add dropout rate = (0.4)  \n",
        "Results:\n",
        "**Before**  \n",
        "Epoch 1/100\n",
        "18/18 ━━━━━━━━━━━━━━━━━━━━ 3s 40ms/step - accuracy: 0.1867 - loss: 2.3760 - val_accuracy: 0.3753 - val_loss: 2.1096\n",
        "Epoch 100/100\n",
        "18/18 ━━━━━━━━━━━━━━━━━━━━ 0s 22ms/step - accuracy: 0.9999 - loss: 0.0051 - val_accuracy: 0.9967 - val_loss: 0.0150 \n",
        "**After**   \n",
        "Epoch 1/100\n",
        "18/18 ━━━━━━━━━━━━━━━━━━━━ 3s 40ms/step - accuracy: 0.1994 - loss: 2.3956 - val_accuracy: 0.3667 - val_loss: 2.1002\n",
        "Epoch 100/100\n",
        "18/18 ━━━━━━━━━━━━━━━━━━━━ 0s 21ms/step - accuracy: 0.7004 - loss: 0.6710 - val_accuracy: 0.9987 - val_loss: 0.0098\n",
        "\n",
        "- Overshooting the ideal learning rate could be the cause of the accuracy decline following the learning rate adjustment. The model may have taken greater steps during optimization as a result of increasing the learning rate from 0.001 to 0.003, which could have led to the model missing the optimal point in the parameter space. As a result, even though the training loss was improved, the model's performance declined, resulting in less accuracy on the validation set.\n",
        "\n",
        "### Change 4:   \n",
        "- Change units within layer to 256\n",
        "- Added another layer of LSTM of 256 units this is the performace difference\n",
        "Results:\n",
        "**Before**  \n",
        "Epoch 1/100\n",
        "18/18 ━━━━━━━━━━━━━━━━━━━━ 3s 40ms/step - accuracy: 0.1994 - loss: 2.3956 - val_accuracy: 0.3667 - val_loss: 2.1002\n",
        "Epoch 100/100\n",
        "18/18 ━━━━━━━━━━━━━━━━━━━━ 0s 21ms/step - accuracy: 0.7004 - loss: 0.6710 - val_accuracy: 0.9987 - val_loss: 0.0098\n",
        "**After**   \n",
        "Epoch 1/100\n",
        "18/18 ━━━━━━━━━━━━━━━━━━━━ 4s 68ms/step - accuracy: 0.1755 - loss: 2.4040 - val_accuracy: 0.3927 - val_loss: 2.0982\n",
        "Epoch 100/100\n",
        "18/18 ━━━━━━━━━━━━━━━━━━━━ 1s 43ms/step - accuracy: 0.6981 - loss: 0.6843 - val_accuracy: 0.9920 - val_loss: 0.0395     \n",
        "\n",
        "- Increasing the LSTM units from 128 to 256 and adding another LSTM layer had a mixed impact. While there was a slight increase in loss and a minor decrease in accuracy, the model's performance remained relatively stable. However, training time per epoch increased, suggesting a rise in computational cost. Further optimization may be needed to improve performance."
      ]
    },
    {
      "cell_type": "markdown",
      "metadata": {
        "id": "9_MwpHqY0ORg"
      },
      "source": [
        "Inspired by [Learn to Add Numbers with an Encoder-Decoder LSTM Recurrent Neural Network](https://machinelearningmastery.com/learn-add-numbers-seq2seq-recurrent-neural-networks/) article."
      ]
    },
    {
      "cell_type": "markdown",
      "metadata": {
        "id": "_GBdmUSv0ORg"
      },
      "source": [
        "## Import dependencies"
      ]
    },
    {
      "cell_type": "code",
      "execution_count": 192,
      "metadata": {
        "id": "YIjgtlp50ORj",
        "outputId": "da374618-d4da-4672-eec8-1a0df3c09dd7"
      },
      "outputs": [
        {
          "name": "stdout",
          "output_type": "stream",
          "text": [
            "Python version: 3.10.11\n",
            "Tensorflow version: 2.16.1\n",
            "Keras version: 3.2.0\n"
          ]
        }
      ],
      "source": [
        "import tensorflow as tf\n",
        "import matplotlib.pyplot as plt\n",
        "import numpy as np\n",
        "import platform\n",
        "import random\n",
        "import math\n",
        "import datetime\n",
        "import keras\n",
        "\n",
        "print('Python version:', platform.python_version())\n",
        "print('Tensorflow version:', tf.__version__)\n",
        "print('Keras version:', keras.__version__)"
      ]
    },
    {
      "cell_type": "markdown",
      "metadata": {
        "id": "CdIrBrc50ORk"
      },
      "source": [
        "## Configuring Tensorboard\n",
        "\n",
        "We will use [Tensorboard](https://www.tensorflow.org/tensorboard) to debug the model later."
      ]
    },
    {
      "cell_type": "code",
      "execution_count": 193,
      "metadata": {
        "id": "6sv7An0P0ORm"
      },
      "outputs": [
        {
          "name": "stdout",
          "output_type": "stream",
          "text": [
            "The tensorboard extension is already loaded. To reload it, use:\n",
            "  %reload_ext tensorboard\n"
          ]
        }
      ],
      "source": [
        "# Load the TensorBoard notebook extension.\n",
        "# %reload_ext tensorboard\n",
        "%load_ext tensorboard"
      ]
    },
    {
      "cell_type": "markdown",
      "metadata": {
        "id": "5_sxEOCX0ORn"
      },
      "source": [
        "## Generate a dataset"
      ]
    },
    {
      "cell_type": "markdown",
      "metadata": {
        "id": "CrsxMCiw0ORo"
      },
      "source": [
        "In order to train a neural network we need to generate a training dataset which will consist of examples `x` (set of summation expressions) and labels `y` (set of correct answers for each expression). We will start with generating a set of _numbers_ (not strings so far) and than we will convert the sets of numbers into _strings_."
      ]
    },
    {
      "cell_type": "code",
      "execution_count": 194,
      "metadata": {
        "id": "wBFYkqJn0ORo"
      },
      "outputs": [],
      "source": [
        "dataset_size = 5000\n",
        "sequence_length = 2\n",
        "max_num = 100"
      ]
    },
    {
      "cell_type": "code",
      "execution_count": 195,
      "metadata": {
        "id": "8FjYtMt20ORo"
      },
      "outputs": [],
      "source": [
        "# Generates summation sequences and summation results in form of vector if numbers.\n",
        "def generate_sums(dataset_size, sequence_length, max_num):\n",
        "    # Initial dataset states.\n",
        "    x, y = [], []\n",
        "\n",
        "    # Generating sums.\n",
        "    for i in range(dataset_size):\n",
        "        sequence = [random.randint(1, max_num) for _ in range(sequence_length)]\n",
        "        x.append(sequence)\n",
        "        y.append(sum(sequence))\n",
        "\n",
        "    return x, y"
      ]
    },
    {
      "cell_type": "code",
      "execution_count": 196,
      "metadata": {
        "id": "zjgeHfxr0ORo",
        "outputId": "a44bc6a1-9d51-4b80-f71e-6da0d4ba1b41"
      },
      "outputs": [
        {
          "name": "stdout",
          "output_type": "stream",
          "text": [
            "x_train:\n",
            " [[34, 14], [71, 70], [41, 90]]\n",
            "\n",
            "y_train:\n",
            " [48, 141, 131]\n"
          ]
        }
      ],
      "source": [
        "x_train, y_train = generate_sums(\n",
        "    dataset_size=dataset_size,\n",
        "    sequence_length=sequence_length,\n",
        "    max_num=max_num\n",
        ")\n",
        "\n",
        "print('x_train:\\n', x_train[:3])\n",
        "print()\n",
        "print('y_train:\\n', y_train[:3])"
      ]
    },
    {
      "cell_type": "markdown",
      "metadata": {
        "id": "f-ccEpmk0ORp"
      },
      "source": [
        "Recurrent neural networks are normally deals with the sequences (of one or many elements) on the input. In order to treat a summation expression as a sequence we will convert array of numbers (i.e. `[[13, 8], [85, 91], ...]`) into strings (i.e. `['13+8   ', '85+91  ', ...]`). We also want to add a space `\" \"` paddings to each string to make them all of the same length. After doing that we will be able to feed our RNN character by character (i.e. `1`, then `3`, then `+`, then `8`, then ` ` and so on)."
      ]
    },
    {
      "cell_type": "code",
      "execution_count": 197,
      "metadata": {
        "id": "TGB0UTIa0ORp"
      },
      "outputs": [],
      "source": [
        "# Convert array of numbers for x and y into strings.\n",
        "# Also it adds a space (\" \") padding to strings to make them of the same length.\n",
        "def dataset_to_strings(x, y, max_num):\n",
        "    # Initial dataset states.\n",
        "    x_str, y_str = [], []\n",
        "\n",
        "    sequnce_length = len(x[0])\n",
        "\n",
        "    # Calculate the maximum length of equation (x) string (i.e. of \"11+99\")\n",
        "    num_of_pluses = sequnce_length - 1\n",
        "    num_of_chars_per_digit = math.ceil(math.log10(max_num + 1))\n",
        "    max_x_length = sequnce_length * num_of_chars_per_digit + num_of_pluses\n",
        "\n",
        "    # Calculate the maximum length of label (y) string (i.e. of \"167\")\n",
        "    max_y_length = math.ceil(math.log10(sequnce_length * (max_num + 1)))\n",
        "\n",
        "    # Add a space \" \" padding to equation strings to make them of the same length.\n",
        "    for example in x:\n",
        "        str_example = '+'.join([str(digit) for digit in example])\n",
        "        str_example += ''.join([' ' for padding in range(max_x_length - len(str_example))])\n",
        "        x_str.append(str_example)\n",
        "\n",
        "    # Add a space \" \" padding to labels strings to make them of the same length.\n",
        "    for label in y:\n",
        "        str_example = str(label)\n",
        "        str_example += ''.join([' ' for padding in range(max_y_length - len(str_example))])\n",
        "        y_str.append(str_example)\n",
        "\n",
        "    return x_str, y_str"
      ]
    },
    {
      "cell_type": "code",
      "execution_count": 198,
      "metadata": {
        "id": "6WK6zgTG0ORp",
        "outputId": "77744f2b-3be9-4606-a0c8-97639f06418e"
      },
      "outputs": [
        {
          "name": "stdout",
          "output_type": "stream",
          "text": [
            "x_train_str:\n",
            " ['34+14  ' '71+70  ' '41+90  ']\n",
            "\n",
            "y_train_str:\n",
            " ['48 ' '141' '131']\n"
          ]
        }
      ],
      "source": [
        "x_train_str, y_train_str = dataset_to_strings(x_train, y_train, max_num)\n",
        "\n",
        "print('x_train_str:\\n', np.array(x_train_str[:3]))\n",
        "print()\n",
        "print('y_train_str:\\n', np.array(y_train_str[:3]))"
      ]
    },
    {
      "cell_type": "code",
      "execution_count": 199,
      "metadata": {
        "id": "HfwxJsPp0ORp"
      },
      "outputs": [],
      "source": [
        "# Since we allow only numbers, plus sign and spaces the vocabulary looks pretty simple.\n",
        "vocabulary = ['0', '1', '2', '3', '4', '5', '6', '7', '8', '9', '+', ' ']"
      ]
    },
    {
      "cell_type": "code",
      "execution_count": 200,
      "metadata": {
        "id": "h_MQeW0s0ORp",
        "outputId": "127c225e-22dc-4b90-9d05-880d51665919"
      },
      "outputs": [
        {
          "name": "stdout",
          "output_type": "stream",
          "text": [
            "{'0': 0, '1': 1, '2': 2, '3': 3, '4': 4, '5': 5, '6': 6, '7': 7, '8': 8, '9': 9, '+': 10, ' ': 11}\n"
          ]
        }
      ],
      "source": [
        "# Python dictionary that will convert a character to its index in the vocabulary.\n",
        "char_to_index = {char: index for index, char in enumerate(vocabulary)}\n",
        "\n",
        "print(char_to_index)"
      ]
    },
    {
      "cell_type": "markdown",
      "metadata": {
        "id": "jTuqxdl-0ORq"
      },
      "source": [
        "Our RNN need to have a digits as an input to operate with (and not a strings). To convert summation expressions strings into number the first step we will do is to convert each character of each string into the position index of this character in the `vocabulary`."
      ]
    },
    {
      "cell_type": "code",
      "execution_count": 201,
      "metadata": {
        "id": "1kn36I0A0ORq"
      },
      "outputs": [],
      "source": [
        "# Converts x and y arrays of strings into array of char indices.\n",
        "def dataset_to_indices(x, y, vocabulary):\n",
        "    x_encoded, y_encoded = [], []\n",
        "\n",
        "    char_to_index = {char: index for index, char in enumerate(vocabulary)}\n",
        "\n",
        "    for example in x:\n",
        "        example_encoded = [char_to_index[char] for char in example]\n",
        "        x_encoded.append(example_encoded)\n",
        "\n",
        "    for label in y:\n",
        "        label_encoded = [char_to_index[char] for char in label]\n",
        "        y_encoded.append(label_encoded)\n",
        "\n",
        "    return x_encoded, y_encoded"
      ]
    },
    {
      "cell_type": "code",
      "execution_count": 202,
      "metadata": {
        "id": "nLp0M2v80ORq",
        "outputId": "f301f11b-a38c-4e4e-da9f-805fc53addc0"
      },
      "outputs": [
        {
          "name": "stdout",
          "output_type": "stream",
          "text": [
            "x_train_encoded:\n",
            " [[ 3  4 10  1  4 11 11]\n",
            " [ 7  1 10  7  0 11 11]\n",
            " [ 4  1 10  9  0 11 11]]\n",
            "\n",
            "y_train_encoded:\n",
            " [[ 4  8 11]\n",
            " [ 1  4  1]\n",
            " [ 1  3  1]]\n"
          ]
        }
      ],
      "source": [
        "x_train_encoded, y_train_encoded = dataset_to_indices(\n",
        "    x_train_str,\n",
        "    y_train_str,\n",
        "    vocabulary\n",
        ")\n",
        "\n",
        "print('x_train_encoded:\\n', np.array(x_train_encoded[:3]))\n",
        "print()\n",
        "print('y_train_encoded:\\n', np.array(y_train_encoded[:3]))"
      ]
    },
    {
      "cell_type": "markdown",
      "metadata": {
        "id": "F0_xDAT-0ORq"
      },
      "source": [
        "To make our dataset even more understandable for our recurrent neural network we will convert each number into `0/1` [one-hot vector](https://en.wikipedia.org/wiki/One-hot) (i.e. number `1` will be transformed into array `[0 1 0 0 0 0 0 0 0 0 0 0]`)."
      ]
    },
    {
      "cell_type": "code",
      "execution_count": 203,
      "metadata": {
        "id": "gTNZBeFA0ORq"
      },
      "outputs": [],
      "source": [
        "# Convert x and y sets of numbers into one-hot vectors.\n",
        "def dataset_to_one_hot(x, y, vocabulary):\n",
        "    x_encoded, y_encoded = [], []\n",
        "\n",
        "    for example in x:\n",
        "        pattern = []\n",
        "        for index in example:\n",
        "            vector = [0 for _ in range(len(vocabulary))]\n",
        "            vector[index] = 1\n",
        "            pattern.append(vector)\n",
        "        x_encoded.append(pattern)\n",
        "\n",
        "    for label in y:\n",
        "        pattern = []\n",
        "        for index in label:\n",
        "            vector = [0 for _ in range(len(vocabulary))]\n",
        "            vector[index] = 1\n",
        "            pattern.append(vector)\n",
        "        y_encoded.append(pattern)\n",
        "\n",
        "    return x_encoded, y_encoded"
      ]
    },
    {
      "cell_type": "code",
      "execution_count": 204,
      "metadata": {
        "id": "XRhCqCQS0ORq",
        "outputId": "0bb0186b-6fc8-4fe9-b3f5-ecfd0ab810a0"
      },
      "outputs": [
        {
          "name": "stdout",
          "output_type": "stream",
          "text": [
            "x_train_one_hot:\n",
            " [[[0 0 0 1 0 0 0 0 0 0 0 0]\n",
            "  [0 0 0 0 1 0 0 0 0 0 0 0]\n",
            "  [0 0 0 0 0 0 0 0 0 0 1 0]\n",
            "  [0 1 0 0 0 0 0 0 0 0 0 0]\n",
            "  [0 0 0 0 1 0 0 0 0 0 0 0]\n",
            "  [0 0 0 0 0 0 0 0 0 0 0 1]\n",
            "  [0 0 0 0 0 0 0 0 0 0 0 1]]]\n",
            "\n",
            "y_train_one_hot:\n",
            " [[[0 0 0 0 1 0 0 0 0 0 0 0]\n",
            "  [0 0 0 0 0 0 0 0 1 0 0 0]\n",
            "  [0 0 0 0 0 0 0 0 0 0 0 1]]]\n"
          ]
        }
      ],
      "source": [
        "x_train_one_hot, y_train_one_hot = dataset_to_one_hot(\n",
        "    x_train_encoded,\n",
        "    y_train_encoded,\n",
        "    vocabulary\n",
        ")\n",
        "\n",
        "print('x_train_one_hot:\\n', np.array(x_train_one_hot[:1]))\n",
        "print()\n",
        "print('y_train_one_hot:\\n', np.array(y_train_one_hot[:1]))"
      ]
    },
    {
      "cell_type": "markdown",
      "metadata": {
        "id": "nA4ZWU0J0ORq"
      },
      "source": [
        "Now we may combine all the function together and create a one function that will do all the work to generate a dataset in the proper format for us."
      ]
    },
    {
      "cell_type": "code",
      "execution_count": 205,
      "metadata": {
        "id": "DYO_uVin0ORq"
      },
      "outputs": [],
      "source": [
        "# Generates a dataset.\n",
        "def generate_dataset(dataset_size, sequence_length, max_num, vocabulary):\n",
        "    # Generate integet sum sequences.\n",
        "    x, y = generate_sums(dataset_size, sequence_length, max_num)\n",
        "    # Convert integer sum sequences into strings.\n",
        "    x, y = dataset_to_strings(x, y, max_num)\n",
        "    # Encode each character to a char indices.\n",
        "    x, y = dataset_to_indices(x, y, vocabulary)\n",
        "    # Encode each index into one-hot vector.\n",
        "    x, y = dataset_to_one_hot(x, y, vocabulary)\n",
        "    # Return the data.\n",
        "    return np.array(x), np.array(y)"
      ]
    },
    {
      "cell_type": "code",
      "execution_count": 206,
      "metadata": {
        "id": "4-wv5BIh0ORr",
        "outputId": "1d0bcb83-ce4e-46c4-fd9f-169319ceeb5f"
      },
      "outputs": [
        {
          "name": "stdout",
          "output_type": "stream",
          "text": [
            "x:\n",
            " [[[0 0 0 0 0 0 0 0 1 0 0 0]\n",
            "  [0 0 0 0 0 0 0 0 0 1 0 0]\n",
            "  [0 0 0 0 0 0 0 0 0 0 1 0]\n",
            "  [0 0 0 0 0 0 0 0 1 0 0 0]\n",
            "  [0 0 0 0 0 0 1 0 0 0 0 0]\n",
            "  [0 0 0 0 0 0 0 0 0 0 0 1]\n",
            "  [0 0 0 0 0 0 0 0 0 0 0 1]]]\n",
            "\n",
            "y:\n",
            " [[[0 1 0 0 0 0 0 0 0 0 0 0]\n",
            "  [0 0 0 0 0 0 0 1 0 0 0 0]\n",
            "  [0 0 0 0 0 1 0 0 0 0 0 0]]]\n"
          ]
        }
      ],
      "source": [
        "x, y = generate_dataset(\n",
        "    dataset_size,\n",
        "    sequence_length,\n",
        "    max_num,\n",
        "    vocabulary\n",
        ")\n",
        "\n",
        "print('x:\\n', x[:1])\n",
        "print()\n",
        "print('y:\\n', y[:1])"
      ]
    },
    {
      "cell_type": "code",
      "execution_count": 207,
      "metadata": {
        "id": "37QKlc8W0ORr",
        "outputId": "fc3979b1-05a4-423f-8604-f5acafc6332f"
      },
      "outputs": [
        {
          "name": "stdout",
          "output_type": "stream",
          "text": [
            "x.shape:  (5000, 7, 12)\n",
            "y.shape:  (5000, 3, 12)\n"
          ]
        }
      ],
      "source": [
        "print('x.shape: ', x.shape) # (input_sequences_num, input_sequence_length, supported_symbols_num)\n",
        "print('y.shape: ', y.shape) # (output_sequences_num, output_sequence_length, supported_symbols_num)"
      ]
    },
    {
      "cell_type": "code",
      "execution_count": 208,
      "metadata": {
        "id": "YUZX4Tne0ORr",
        "outputId": "ca3e8b47-0197-4420-8199-eb5884f20f6d"
      },
      "outputs": [
        {
          "name": "stdout",
          "output_type": "stream",
          "text": [
            "input_sequence_length:  7\n",
            "output_sequence_length:  3\n",
            "supported_symbols_num:  12\n",
            "vocabulary_size:  12\n"
          ]
        }
      ],
      "source": [
        "# How many characters each summation expression has.\n",
        "input_sequence_length = x.shape[1]\n",
        "\n",
        "# How many characters the output sequence of the RNN has.\n",
        "output_sequence_length = y.shape[1]\n",
        "\n",
        "# The length of one-hot vector for each character in the input (should be the same as vocabulary_size).\n",
        "supported_symbols_num = x.shape[2]\n",
        "\n",
        "# The number of different characters our RNN network could work with (i.e. it understands only digits, \"+\" and \" \").\n",
        "vocabulary_size = len(vocabulary)\n",
        "\n",
        "print('input_sequence_length: ', input_sequence_length)\n",
        "print('output_sequence_length: ', output_sequence_length)\n",
        "print('supported_symbols_num: ', supported_symbols_num)\n",
        "print('vocabulary_size: ', vocabulary_size)"
      ]
    },
    {
      "cell_type": "code",
      "execution_count": 209,
      "metadata": {
        "id": "L9vj1Nih0ORr"
      },
      "outputs": [],
      "source": [
        "# Converts a sequence (array) of one-hot encoded vectors back into the string based on the provided vocabulary.\n",
        "def decode(sequence, vocabulary):\n",
        "    index_to_char = {index: char for index, char in enumerate(vocabulary)}\n",
        "    strings = []\n",
        "    for char_vector in sequence:\n",
        "        char = index_to_char[np.argmax(char_vector)]\n",
        "        strings.append(char)\n",
        "    return ''.join(strings)"
      ]
    },
    {
      "cell_type": "code",
      "execution_count": 210,
      "metadata": {
        "id": "-Fj0AbuR0ORr",
        "outputId": "5a6dc30f-2404-4c93-ecb5-4f261bef905a"
      },
      "outputs": [
        {
          "data": {
            "text/plain": [
              "'175'"
            ]
          },
          "execution_count": 210,
          "metadata": {},
          "output_type": "execute_result"
        }
      ],
      "source": [
        "decode(y[0], vocabulary)"
      ]
    },
    {
      "cell_type": "markdown",
      "metadata": {
        "id": "fBPbIg3N0ORr"
      },
      "source": [
        "## Build a model"
      ]
    },
    {
      "cell_type": "markdown",
      "metadata": {
        "id": "3d3_jOgF0ORs"
      },
      "source": [
        "We will use a [Sequential] TensorFlow model with [LSTM](https://www.tensorflow.org/api_docs/python/tf/keras/layers/LSTM) layers. Logically our model will consist of **encoder** and **decoder**. _Encoder_ will encode the input expression into an array of numbers. And then _decoder_ will try to build an output result sequence by decoding the array of numbers from encoder."
      ]
    },
    {
      "cell_type": "code",
      "execution_count": 211,
      "metadata": {
        "id": "JHePzptc0ORs"
      },
      "outputs": [],
      "source": [
        "epochs_num = 100\n",
        "batch_size = 256"
      ]
    },
    {
      "cell_type": "code",
      "execution_count": 212,
      "metadata": {
        "id": "cI8e2xEP0ORs"
      },
      "outputs": [],
      "source": [
        "model = tf.keras.models.Sequential()\n",
        "\n",
        "# Encoder\n",
        "# -------\n",
        "\n",
        "model.add(tf.keras.layers.LSTM(\n",
        "    units=128,\n",
        "    input_shape=(input_sequence_length, vocabulary_size),\n",
        "    recurrent_initializer=tf.keras.initializers.GlorotNormal()\n",
        "))\n",
        "\n",
        "# Decoder\n",
        "# -------\n",
        "\n",
        "# We need this layer to match the encoder output shape with decoder input shape.\n",
        "# Encoder outputs ONE vector of numbers but for decoder we need have output_sequence_length vectors.\n",
        "model.add(tf.keras.layers.RepeatVector(\n",
        "    n=output_sequence_length,\n",
        "))\n",
        "\n",
        "model.add(tf.keras.layers.LSTM(\n",
        "    units=256,\n",
        "    return_sequences=True,\n",
        "    recurrent_initializer=tf.keras.initializers.GlorotNormal()\n",
        "))\n",
        "\n",
        "model.add(tf.keras.layers.LSTM(\n",
        "    units=256,\n",
        "    return_sequences=True,\n",
        "    recurrent_initializer=tf.keras.initializers.GlorotNormal()\n",
        "))\n",
        "\n",
        "model.add(tf.keras.layers.TimeDistributed(\n",
        "    layer=tf.keras.layers.Dense(\n",
        "        units=vocabulary_size,\n",
        "    )\n",
        "))\n",
        "\n",
        "model.add(tf.keras.layers.Dropout(0.4))\n",
        "\n",
        "model.add(tf.keras.layers.Activation(\n",
        "    activation='softmax'\n",
        "))"
      ]
    },
    {
      "cell_type": "code",
      "execution_count": 213,
      "metadata": {
        "id": "vw3vtPnw0ORs",
        "outputId": "97c8236b-5bc7-49da-a72c-43b3f1015fee"
      },
      "outputs": [
        {
          "data": {
            "text/html": [
              "<pre style=\"white-space:pre;overflow-x:auto;line-height:normal;font-family:Menlo,'DejaVu Sans Mono',consolas,'Courier New',monospace\"><span style=\"font-weight: bold\">Model: \"sequential_6\"</span>\n",
              "</pre>\n"
            ],
            "text/plain": [
              "\u001b[1mModel: \"sequential_6\"\u001b[0m\n"
            ]
          },
          "metadata": {},
          "output_type": "display_data"
        },
        {
          "data": {
            "text/html": [
              "<pre style=\"white-space:pre;overflow-x:auto;line-height:normal;font-family:Menlo,'DejaVu Sans Mono',consolas,'Courier New',monospace\">┏━━━━━━━━━━━━━━━━━━━━━━━━━━━━━━━━━┳━━━━━━━━━━━━━━━━━━━━━━━━┳━━━━━━━━━━━━━━━┓\n",
              "┃<span style=\"font-weight: bold\"> Layer (type)                    </span>┃<span style=\"font-weight: bold\"> Output Shape           </span>┃<span style=\"font-weight: bold\">       Param # </span>┃\n",
              "┡━━━━━━━━━━━━━━━━━━━━━━━━━━━━━━━━━╇━━━━━━━━━━━━━━━━━━━━━━━━╇━━━━━━━━━━━━━━━┩\n",
              "│ lstm_12 (<span style=\"color: #0087ff; text-decoration-color: #0087ff\">LSTM</span>)                  │ (<span style=\"color: #00d7ff; text-decoration-color: #00d7ff\">None</span>, <span style=\"color: #00af00; text-decoration-color: #00af00\">128</span>)            │        <span style=\"color: #00af00; text-decoration-color: #00af00\">72,192</span> │\n",
              "├─────────────────────────────────┼────────────────────────┼───────────────┤\n",
              "│ repeat_vector_6 (<span style=\"color: #0087ff; text-decoration-color: #0087ff\">RepeatVector</span>)  │ (<span style=\"color: #00d7ff; text-decoration-color: #00d7ff\">None</span>, <span style=\"color: #00af00; text-decoration-color: #00af00\">3</span>, <span style=\"color: #00af00; text-decoration-color: #00af00\">128</span>)         │             <span style=\"color: #00af00; text-decoration-color: #00af00\">0</span> │\n",
              "├─────────────────────────────────┼────────────────────────┼───────────────┤\n",
              "│ lstm_13 (<span style=\"color: #0087ff; text-decoration-color: #0087ff\">LSTM</span>)                  │ (<span style=\"color: #00d7ff; text-decoration-color: #00d7ff\">None</span>, <span style=\"color: #00af00; text-decoration-color: #00af00\">3</span>, <span style=\"color: #00af00; text-decoration-color: #00af00\">256</span>)         │       <span style=\"color: #00af00; text-decoration-color: #00af00\">394,240</span> │\n",
              "├─────────────────────────────────┼────────────────────────┼───────────────┤\n",
              "│ lstm_14 (<span style=\"color: #0087ff; text-decoration-color: #0087ff\">LSTM</span>)                  │ (<span style=\"color: #00d7ff; text-decoration-color: #00d7ff\">None</span>, <span style=\"color: #00af00; text-decoration-color: #00af00\">3</span>, <span style=\"color: #00af00; text-decoration-color: #00af00\">256</span>)         │       <span style=\"color: #00af00; text-decoration-color: #00af00\">525,312</span> │\n",
              "├─────────────────────────────────┼────────────────────────┼───────────────┤\n",
              "│ time_distributed_6              │ (<span style=\"color: #00d7ff; text-decoration-color: #00d7ff\">None</span>, <span style=\"color: #00af00; text-decoration-color: #00af00\">3</span>, <span style=\"color: #00af00; text-decoration-color: #00af00\">12</span>)          │         <span style=\"color: #00af00; text-decoration-color: #00af00\">3,084</span> │\n",
              "│ (<span style=\"color: #0087ff; text-decoration-color: #0087ff\">TimeDistributed</span>)               │                        │               │\n",
              "├─────────────────────────────────┼────────────────────────┼───────────────┤\n",
              "│ dropout_3 (<span style=\"color: #0087ff; text-decoration-color: #0087ff\">Dropout</span>)             │ (<span style=\"color: #00d7ff; text-decoration-color: #00d7ff\">None</span>, <span style=\"color: #00af00; text-decoration-color: #00af00\">3</span>, <span style=\"color: #00af00; text-decoration-color: #00af00\">12</span>)          │             <span style=\"color: #00af00; text-decoration-color: #00af00\">0</span> │\n",
              "├─────────────────────────────────┼────────────────────────┼───────────────┤\n",
              "│ activation_6 (<span style=\"color: #0087ff; text-decoration-color: #0087ff\">Activation</span>)       │ (<span style=\"color: #00d7ff; text-decoration-color: #00d7ff\">None</span>, <span style=\"color: #00af00; text-decoration-color: #00af00\">3</span>, <span style=\"color: #00af00; text-decoration-color: #00af00\">12</span>)          │             <span style=\"color: #00af00; text-decoration-color: #00af00\">0</span> │\n",
              "└─────────────────────────────────┴────────────────────────┴───────────────┘\n",
              "</pre>\n"
            ],
            "text/plain": [
              "┏━━━━━━━━━━━━━━━━━━━━━━━━━━━━━━━━━┳━━━━━━━━━━━━━━━━━━━━━━━━┳━━━━━━━━━━━━━━━┓\n",
              "┃\u001b[1m \u001b[0m\u001b[1mLayer (type)                   \u001b[0m\u001b[1m \u001b[0m┃\u001b[1m \u001b[0m\u001b[1mOutput Shape          \u001b[0m\u001b[1m \u001b[0m┃\u001b[1m \u001b[0m\u001b[1m      Param #\u001b[0m\u001b[1m \u001b[0m┃\n",
              "┡━━━━━━━━━━━━━━━━━━━━━━━━━━━━━━━━━╇━━━━━━━━━━━━━━━━━━━━━━━━╇━━━━━━━━━━━━━━━┩\n",
              "│ lstm_12 (\u001b[38;5;33mLSTM\u001b[0m)                  │ (\u001b[38;5;45mNone\u001b[0m, \u001b[38;5;34m128\u001b[0m)            │        \u001b[38;5;34m72,192\u001b[0m │\n",
              "├─────────────────────────────────┼────────────────────────┼───────────────┤\n",
              "│ repeat_vector_6 (\u001b[38;5;33mRepeatVector\u001b[0m)  │ (\u001b[38;5;45mNone\u001b[0m, \u001b[38;5;34m3\u001b[0m, \u001b[38;5;34m128\u001b[0m)         │             \u001b[38;5;34m0\u001b[0m │\n",
              "├─────────────────────────────────┼────────────────────────┼───────────────┤\n",
              "│ lstm_13 (\u001b[38;5;33mLSTM\u001b[0m)                  │ (\u001b[38;5;45mNone\u001b[0m, \u001b[38;5;34m3\u001b[0m, \u001b[38;5;34m256\u001b[0m)         │       \u001b[38;5;34m394,240\u001b[0m │\n",
              "├─────────────────────────────────┼────────────────────────┼───────────────┤\n",
              "│ lstm_14 (\u001b[38;5;33mLSTM\u001b[0m)                  │ (\u001b[38;5;45mNone\u001b[0m, \u001b[38;5;34m3\u001b[0m, \u001b[38;5;34m256\u001b[0m)         │       \u001b[38;5;34m525,312\u001b[0m │\n",
              "├─────────────────────────────────┼────────────────────────┼───────────────┤\n",
              "│ time_distributed_6              │ (\u001b[38;5;45mNone\u001b[0m, \u001b[38;5;34m3\u001b[0m, \u001b[38;5;34m12\u001b[0m)          │         \u001b[38;5;34m3,084\u001b[0m │\n",
              "│ (\u001b[38;5;33mTimeDistributed\u001b[0m)               │                        │               │\n",
              "├─────────────────────────────────┼────────────────────────┼───────────────┤\n",
              "│ dropout_3 (\u001b[38;5;33mDropout\u001b[0m)             │ (\u001b[38;5;45mNone\u001b[0m, \u001b[38;5;34m3\u001b[0m, \u001b[38;5;34m12\u001b[0m)          │             \u001b[38;5;34m0\u001b[0m │\n",
              "├─────────────────────────────────┼────────────────────────┼───────────────┤\n",
              "│ activation_6 (\u001b[38;5;33mActivation\u001b[0m)       │ (\u001b[38;5;45mNone\u001b[0m, \u001b[38;5;34m3\u001b[0m, \u001b[38;5;34m12\u001b[0m)          │             \u001b[38;5;34m0\u001b[0m │\n",
              "└─────────────────────────────────┴────────────────────────┴───────────────┘\n"
            ]
          },
          "metadata": {},
          "output_type": "display_data"
        },
        {
          "data": {
            "text/html": [
              "<pre style=\"white-space:pre;overflow-x:auto;line-height:normal;font-family:Menlo,'DejaVu Sans Mono',consolas,'Courier New',monospace\"><span style=\"font-weight: bold\"> Total params: </span><span style=\"color: #00af00; text-decoration-color: #00af00\">994,828</span> (3.79 MB)\n",
              "</pre>\n"
            ],
            "text/plain": [
              "\u001b[1m Total params: \u001b[0m\u001b[38;5;34m994,828\u001b[0m (3.79 MB)\n"
            ]
          },
          "metadata": {},
          "output_type": "display_data"
        },
        {
          "data": {
            "text/html": [
              "<pre style=\"white-space:pre;overflow-x:auto;line-height:normal;font-family:Menlo,'DejaVu Sans Mono',consolas,'Courier New',monospace\"><span style=\"font-weight: bold\"> Trainable params: </span><span style=\"color: #00af00; text-decoration-color: #00af00\">994,828</span> (3.79 MB)\n",
              "</pre>\n"
            ],
            "text/plain": [
              "\u001b[1m Trainable params: \u001b[0m\u001b[38;5;34m994,828\u001b[0m (3.79 MB)\n"
            ]
          },
          "metadata": {},
          "output_type": "display_data"
        },
        {
          "data": {
            "text/html": [
              "<pre style=\"white-space:pre;overflow-x:auto;line-height:normal;font-family:Menlo,'DejaVu Sans Mono',consolas,'Courier New',monospace\"><span style=\"font-weight: bold\"> Non-trainable params: </span><span style=\"color: #00af00; text-decoration-color: #00af00\">0</span> (0.00 B)\n",
              "</pre>\n"
            ],
            "text/plain": [
              "\u001b[1m Non-trainable params: \u001b[0m\u001b[38;5;34m0\u001b[0m (0.00 B)\n"
            ]
          },
          "metadata": {},
          "output_type": "display_data"
        }
      ],
      "source": [
        "model.summary()"
      ]
    },
    {
      "cell_type": "code",
      "execution_count": 214,
      "metadata": {
        "id": "fcepx6ut0ORs",
        "outputId": "263e0d34-af5a-406d-9c0c-7c6f6132e2ed"
      },
      "outputs": [
        {
          "name": "stdout",
          "output_type": "stream",
          "text": [
            "You must install graphviz (see instructions at https://graphviz.gitlab.io/download/) for `plot_model` to work.\n"
          ]
        }
      ],
      "source": [
        "tf.keras.utils.plot_model(\n",
        "    model,\n",
        "    show_shapes=True,\n",
        "    show_layer_names=True,\n",
        ")"
      ]
    },
    {
      "cell_type": "markdown",
      "metadata": {
        "id": "_VlER-4i0ORz"
      },
      "source": [
        "## Train a model"
      ]
    },
    {
      "cell_type": "code",
      "execution_count": 215,
      "metadata": {
        "id": "3ZVRH1WS0ORz"
      },
      "outputs": [],
      "source": [
        "log_dir=\".logs/fit/\" + datetime.datetime.now().strftime(\"%Y%m%d-%H%M%S\")\n",
        "tensorboard_callback = tf.keras.callbacks.TensorBoard(log_dir=log_dir, histogram_freq=1)"
      ]
    },
    {
      "cell_type": "code",
      "execution_count": 216,
      "metadata": {
        "id": "yoC-Jofw0OR0"
      },
      "outputs": [],
      "source": [
        "adam_optimizer = tf.keras.optimizers.Adam(learning_rate=0.003)\n",
        "model.compile(\n",
        "    optimizer=adam_optimizer,\n",
        "    loss=tf.keras.losses.categorical_crossentropy,\n",
        "    metrics=['accuracy'],\n",
        ")"
      ]
    },
    {
      "cell_type": "code",
      "execution_count": 217,
      "metadata": {
        "id": "57Jhxsyy0OR0",
        "outputId": "0b2c6f12-dd6c-4cf3-f7b7-78cd148f8f06"
      },
      "outputs": [
        {
          "name": "stdout",
          "output_type": "stream",
          "text": [
            "Epoch 1/100\n"
          ]
        },
        {
          "name": "stdout",
          "output_type": "stream",
          "text": [
            "\u001b[1m18/18\u001b[0m \u001b[32m━━━━━━━━━━━━━━━━━━━━\u001b[0m\u001b[37m\u001b[0m \u001b[1m4s\u001b[0m 68ms/step - accuracy: 0.1755 - loss: 2.4040 - val_accuracy: 0.3927 - val_loss: 2.0982\n",
            "Epoch 2/100\n",
            "\u001b[1m18/18\u001b[0m \u001b[32m━━━━━━━━━━━━━━━━━━━━\u001b[0m\u001b[37m\u001b[0m \u001b[1m1s\u001b[0m 44ms/step - accuracy: 0.2605 - loss: 2.1797 - val_accuracy: 0.3973 - val_loss: 1.8854\n",
            "Epoch 3/100\n",
            "\u001b[1m18/18\u001b[0m \u001b[32m━━━━━━━━━━━━━━━━━━━━\u001b[0m\u001b[37m\u001b[0m \u001b[1m1s\u001b[0m 44ms/step - accuracy: 0.2700 - loss: 2.0522 - val_accuracy: 0.4020 - val_loss: 1.8272\n",
            "Epoch 4/100\n",
            "\u001b[1m18/18\u001b[0m \u001b[32m━━━━━━━━━━━━━━━━━━━━\u001b[0m\u001b[37m\u001b[0m \u001b[1m1s\u001b[0m 44ms/step - accuracy: 0.2671 - loss: 2.0190 - val_accuracy: 0.4007 - val_loss: 1.7395\n",
            "Epoch 5/100\n",
            "\u001b[1m18/18\u001b[0m \u001b[32m━━━━━━━━━━━━━━━━━━━━\u001b[0m\u001b[37m\u001b[0m \u001b[1m1s\u001b[0m 43ms/step - accuracy: 0.3009 - loss: 1.9595 - val_accuracy: 0.3987 - val_loss: 1.7506\n",
            "Epoch 6/100\n",
            "\u001b[1m18/18\u001b[0m \u001b[32m━━━━━━━━━━━━━━━━━━━━\u001b[0m\u001b[37m\u001b[0m \u001b[1m1s\u001b[0m 45ms/step - accuracy: 0.3114 - loss: 1.9454 - val_accuracy: 0.4127 - val_loss: 1.6952\n",
            "Epoch 7/100\n",
            "\u001b[1m18/18\u001b[0m \u001b[32m━━━━━━━━━━━━━━━━━━━━\u001b[0m\u001b[37m\u001b[0m \u001b[1m1s\u001b[0m 46ms/step - accuracy: 0.3142 - loss: 1.9275 - val_accuracy: 0.4187 - val_loss: 1.6423\n",
            "Epoch 8/100\n",
            "\u001b[1m18/18\u001b[0m \u001b[32m━━━━━━━━━━━━━━━━━━━━\u001b[0m\u001b[37m\u001b[0m \u001b[1m1s\u001b[0m 43ms/step - accuracy: 0.3413 - loss: 1.8427 - val_accuracy: 0.4400 - val_loss: 1.5028\n",
            "Epoch 9/100\n",
            "\u001b[1m18/18\u001b[0m \u001b[32m━━━━━━━━━━━━━━━━━━━━\u001b[0m\u001b[37m\u001b[0m \u001b[1m1s\u001b[0m 44ms/step - accuracy: 0.3749 - loss: 1.7321 - val_accuracy: 0.4833 - val_loss: 1.4125\n",
            "Epoch 10/100\n",
            "\u001b[1m18/18\u001b[0m \u001b[32m━━━━━━━━━━━━━━━━━━━━\u001b[0m\u001b[37m\u001b[0m \u001b[1m1s\u001b[0m 44ms/step - accuracy: 0.3776 - loss: 1.6948 - val_accuracy: 0.5460 - val_loss: 1.2985\n",
            "Epoch 11/100\n",
            "\u001b[1m18/18\u001b[0m \u001b[32m━━━━━━━━━━━━━━━━━━━━\u001b[0m\u001b[37m\u001b[0m \u001b[1m1s\u001b[0m 43ms/step - accuracy: 0.4007 - loss: 1.6329 - val_accuracy: 0.5560 - val_loss: 1.2150\n",
            "Epoch 12/100\n",
            "\u001b[1m18/18\u001b[0m \u001b[32m━━━━━━━━━━━━━━━━━━━━\u001b[0m\u001b[37m\u001b[0m \u001b[1m1s\u001b[0m 45ms/step - accuracy: 0.4335 - loss: 1.5470 - val_accuracy: 0.5493 - val_loss: 1.1774\n",
            "Epoch 13/100\n",
            "\u001b[1m18/18\u001b[0m \u001b[32m━━━━━━━━━━━━━━━━━━━━\u001b[0m\u001b[37m\u001b[0m \u001b[1m1s\u001b[0m 44ms/step - accuracy: 0.4160 - loss: 1.5740 - val_accuracy: 0.5507 - val_loss: 1.1695\n",
            "Epoch 14/100\n",
            "\u001b[1m18/18\u001b[0m \u001b[32m━━━━━━━━━━━━━━━━━━━━\u001b[0m\u001b[37m\u001b[0m \u001b[1m1s\u001b[0m 43ms/step - accuracy: 0.4329 - loss: 1.5149 - val_accuracy: 0.6273 - val_loss: 1.0738\n",
            "Epoch 15/100\n",
            "\u001b[1m18/18\u001b[0m \u001b[32m━━━━━━━━━━━━━━━━━━━━\u001b[0m\u001b[37m\u001b[0m \u001b[1m1s\u001b[0m 42ms/step - accuracy: 0.4523 - loss: 1.4663 - val_accuracy: 0.6287 - val_loss: 1.0405\n",
            "Epoch 16/100\n",
            "\u001b[1m18/18\u001b[0m \u001b[32m━━━━━━━━━━━━━━━━━━━━\u001b[0m\u001b[37m\u001b[0m \u001b[1m1s\u001b[0m 45ms/step - accuracy: 0.4589 - loss: 1.4553 - val_accuracy: 0.5853 - val_loss: 1.0685\n",
            "Epoch 17/100\n",
            "\u001b[1m18/18\u001b[0m \u001b[32m━━━━━━━━━━━━━━━━━━━━\u001b[0m\u001b[37m\u001b[0m \u001b[1m1s\u001b[0m 43ms/step - accuracy: 0.4484 - loss: 1.4666 - val_accuracy: 0.6053 - val_loss: 1.0276\n",
            "Epoch 18/100\n",
            "\u001b[1m18/18\u001b[0m \u001b[32m━━━━━━━━━━━━━━━━━━━━\u001b[0m\u001b[37m\u001b[0m \u001b[1m1s\u001b[0m 43ms/step - accuracy: 0.4653 - loss: 1.4164 - val_accuracy: 0.6447 - val_loss: 0.9717\n",
            "Epoch 19/100\n",
            "\u001b[1m18/18\u001b[0m \u001b[32m━━━━━━━━━━━━━━━━━━━━\u001b[0m\u001b[37m\u001b[0m \u001b[1m1s\u001b[0m 43ms/step - accuracy: 0.4658 - loss: 1.4063 - val_accuracy: 0.6400 - val_loss: 0.9453\n",
            "Epoch 20/100\n",
            "\u001b[1m18/18\u001b[0m \u001b[32m━━━━━━━━━━━━━━━━━━━━\u001b[0m\u001b[37m\u001b[0m \u001b[1m1s\u001b[0m 44ms/step - accuracy: 0.4737 - loss: 1.4017 - val_accuracy: 0.6673 - val_loss: 0.9298\n",
            "Epoch 21/100\n",
            "\u001b[1m18/18\u001b[0m \u001b[32m━━━━━━━━━━━━━━━━━━━━\u001b[0m\u001b[37m\u001b[0m \u001b[1m1s\u001b[0m 42ms/step - accuracy: 0.4816 - loss: 1.3581 - val_accuracy: 0.6147 - val_loss: 0.9961\n",
            "Epoch 22/100\n",
            "\u001b[1m18/18\u001b[0m \u001b[32m━━━━━━━━━━━━━━━━━━━━\u001b[0m\u001b[37m\u001b[0m \u001b[1m1s\u001b[0m 43ms/step - accuracy: 0.4698 - loss: 1.3954 - val_accuracy: 0.6740 - val_loss: 0.8897\n",
            "Epoch 23/100\n",
            "\u001b[1m18/18\u001b[0m \u001b[32m━━━━━━━━━━━━━━━━━━━━\u001b[0m\u001b[37m\u001b[0m \u001b[1m1s\u001b[0m 44ms/step - accuracy: 0.4687 - loss: 1.3904 - val_accuracy: 0.6567 - val_loss: 0.9167\n",
            "Epoch 24/100\n",
            "\u001b[1m18/18\u001b[0m \u001b[32m━━━━━━━━━━━━━━━━━━━━\u001b[0m\u001b[37m\u001b[0m \u001b[1m1s\u001b[0m 44ms/step - accuracy: 0.4921 - loss: 1.3401 - val_accuracy: 0.6760 - val_loss: 0.8934\n",
            "Epoch 25/100\n",
            "\u001b[1m18/18\u001b[0m \u001b[32m━━━━━━━━━━━━━━━━━━━━\u001b[0m\u001b[37m\u001b[0m \u001b[1m1s\u001b[0m 44ms/step - accuracy: 0.4975 - loss: 1.3229 - val_accuracy: 0.6727 - val_loss: 0.8664\n",
            "Epoch 26/100\n",
            "\u001b[1m18/18\u001b[0m \u001b[32m━━━━━━━━━━━━━━━━━━━━\u001b[0m\u001b[37m\u001b[0m \u001b[1m1s\u001b[0m 44ms/step - accuracy: 0.4979 - loss: 1.3182 - val_accuracy: 0.6720 - val_loss: 0.8615\n",
            "Epoch 27/100\n",
            "\u001b[1m18/18\u001b[0m \u001b[32m━━━━━━━━━━━━━━━━━━━━\u001b[0m\u001b[37m\u001b[0m \u001b[1m1s\u001b[0m 45ms/step - accuracy: 0.5026 - loss: 1.3109 - val_accuracy: 0.6693 - val_loss: 0.8704\n",
            "Epoch 28/100\n",
            "\u001b[1m18/18\u001b[0m \u001b[32m━━━━━━━━━━━━━━━━━━━━\u001b[0m\u001b[37m\u001b[0m \u001b[1m1s\u001b[0m 46ms/step - accuracy: 0.4879 - loss: 1.3386 - val_accuracy: 0.6360 - val_loss: 0.9529\n",
            "Epoch 29/100\n",
            "\u001b[1m18/18\u001b[0m \u001b[32m━━━━━━━━━━━━━━━━━━━━\u001b[0m\u001b[37m\u001b[0m \u001b[1m1s\u001b[0m 45ms/step - accuracy: 0.4742 - loss: 1.3862 - val_accuracy: 0.6487 - val_loss: 0.8911\n",
            "Epoch 30/100\n",
            "\u001b[1m18/18\u001b[0m \u001b[32m━━━━━━━━━━━━━━━━━━━━\u001b[0m\u001b[37m\u001b[0m \u001b[1m1s\u001b[0m 44ms/step - accuracy: 0.4881 - loss: 1.3275 - val_accuracy: 0.6713 - val_loss: 0.8436\n",
            "Epoch 31/100\n",
            "\u001b[1m18/18\u001b[0m \u001b[32m━━━━━━━━━━━━━━━━━━━━\u001b[0m\u001b[37m\u001b[0m \u001b[1m1s\u001b[0m 43ms/step - accuracy: 0.4959 - loss: 1.3143 - val_accuracy: 0.6580 - val_loss: 0.8695\n",
            "Epoch 32/100\n",
            "\u001b[1m18/18\u001b[0m \u001b[32m━━━━━━━━━━━━━━━━━━━━\u001b[0m\u001b[37m\u001b[0m \u001b[1m1s\u001b[0m 43ms/step - accuracy: 0.5063 - loss: 1.2796 - val_accuracy: 0.6720 - val_loss: 0.8554\n",
            "Epoch 33/100\n",
            "\u001b[1m18/18\u001b[0m \u001b[32m━━━━━━━━━━━━━━━━━━━━\u001b[0m\u001b[37m\u001b[0m \u001b[1m1s\u001b[0m 44ms/step - accuracy: 0.5115 - loss: 1.2824 - val_accuracy: 0.6920 - val_loss: 0.8313\n",
            "Epoch 34/100\n",
            "\u001b[1m18/18\u001b[0m \u001b[32m━━━━━━━━━━━━━━━━━━━━\u001b[0m\u001b[37m\u001b[0m \u001b[1m1s\u001b[0m 45ms/step - accuracy: 0.5171 - loss: 1.2615 - val_accuracy: 0.6860 - val_loss: 0.8211\n",
            "Epoch 35/100\n",
            "\u001b[1m18/18\u001b[0m \u001b[32m━━━━━━━━━━━━━━━━━━━━\u001b[0m\u001b[37m\u001b[0m \u001b[1m1s\u001b[0m 43ms/step - accuracy: 0.5144 - loss: 1.2615 - val_accuracy: 0.7020 - val_loss: 0.8226\n",
            "Epoch 36/100\n",
            "\u001b[1m18/18\u001b[0m \u001b[32m━━━━━━━━━━━━━━━━━━━━\u001b[0m\u001b[37m\u001b[0m \u001b[1m1s\u001b[0m 43ms/step - accuracy: 0.5065 - loss: 1.2791 - val_accuracy: 0.6693 - val_loss: 0.8710\n",
            "Epoch 37/100\n",
            "\u001b[1m18/18\u001b[0m \u001b[32m━━━━━━━━━━━━━━━━━━━━\u001b[0m\u001b[37m\u001b[0m \u001b[1m1s\u001b[0m 42ms/step - accuracy: 0.4960 - loss: 1.3017 - val_accuracy: 0.6793 - val_loss: 0.8540\n",
            "Epoch 38/100\n",
            "\u001b[1m18/18\u001b[0m \u001b[32m━━━━━━━━━━━━━━━━━━━━\u001b[0m\u001b[37m\u001b[0m \u001b[1m1s\u001b[0m 45ms/step - accuracy: 0.5048 - loss: 1.2783 - val_accuracy: 0.6953 - val_loss: 0.8024\n",
            "Epoch 39/100\n",
            "\u001b[1m18/18\u001b[0m \u001b[32m━━━━━━━━━━━━━━━━━━━━\u001b[0m\u001b[37m\u001b[0m \u001b[1m1s\u001b[0m 44ms/step - accuracy: 0.5148 - loss: 1.2621 - val_accuracy: 0.6847 - val_loss: 0.8499\n",
            "Epoch 40/100\n",
            "\u001b[1m18/18\u001b[0m \u001b[32m━━━━━━━━━━━━━━━━━━━━\u001b[0m\u001b[37m\u001b[0m \u001b[1m1s\u001b[0m 42ms/step - accuracy: 0.4906 - loss: 1.3187 - val_accuracy: 0.6860 - val_loss: 0.8174\n",
            "Epoch 41/100\n",
            "\u001b[1m18/18\u001b[0m \u001b[32m━━━━━━━━━━━━━━━━━━━━\u001b[0m\u001b[37m\u001b[0m \u001b[1m1s\u001b[0m 44ms/step - accuracy: 0.4874 - loss: 1.3412 - val_accuracy: 0.6720 - val_loss: 0.8561\n",
            "Epoch 42/100\n",
            "\u001b[1m18/18\u001b[0m \u001b[32m━━━━━━━━━━━━━━━━━━━━\u001b[0m\u001b[37m\u001b[0m \u001b[1m1s\u001b[0m 43ms/step - accuracy: 0.4927 - loss: 1.3246 - val_accuracy: 0.6720 - val_loss: 0.8465\n",
            "Epoch 43/100\n",
            "\u001b[1m18/18\u001b[0m \u001b[32m━━━━━━━━━━━━━━━━━━━━\u001b[0m\u001b[37m\u001b[0m \u001b[1m1s\u001b[0m 44ms/step - accuracy: 0.5015 - loss: 1.3049 - val_accuracy: 0.6880 - val_loss: 0.8026\n",
            "Epoch 44/100\n",
            "\u001b[1m18/18\u001b[0m \u001b[32m━━━━━━━━━━━━━━━━━━━━\u001b[0m\u001b[37m\u001b[0m \u001b[1m1s\u001b[0m 44ms/step - accuracy: 0.5188 - loss: 1.2431 - val_accuracy: 0.7080 - val_loss: 0.7754\n",
            "Epoch 45/100\n",
            "\u001b[1m18/18\u001b[0m \u001b[32m━━━━━━━━━━━━━━━━━━━━\u001b[0m\u001b[37m\u001b[0m \u001b[1m1s\u001b[0m 42ms/step - accuracy: 0.5150 - loss: 1.2435 - val_accuracy: 0.6947 - val_loss: 0.7998\n",
            "Epoch 46/100\n",
            "\u001b[1m18/18\u001b[0m \u001b[32m━━━━━━━━━━━━━━━━━━━━\u001b[0m\u001b[37m\u001b[0m \u001b[1m1s\u001b[0m 42ms/step - accuracy: 0.5099 - loss: 1.2593 - val_accuracy: 0.7060 - val_loss: 0.7822\n",
            "Epoch 47/100\n",
            "\u001b[1m18/18\u001b[0m \u001b[32m━━━━━━━━━━━━━━━━━━━━\u001b[0m\u001b[37m\u001b[0m \u001b[1m1s\u001b[0m 45ms/step - accuracy: 0.5155 - loss: 1.2462 - val_accuracy: 0.7033 - val_loss: 0.7717\n",
            "Epoch 48/100\n",
            "\u001b[1m18/18\u001b[0m \u001b[32m━━━━━━━━━━━━━━━━━━━━\u001b[0m\u001b[37m\u001b[0m \u001b[1m1s\u001b[0m 43ms/step - accuracy: 0.5195 - loss: 1.2248 - val_accuracy: 0.6960 - val_loss: 0.7884\n",
            "Epoch 49/100\n",
            "\u001b[1m18/18\u001b[0m \u001b[32m━━━━━━━━━━━━━━━━━━━━\u001b[0m\u001b[37m\u001b[0m \u001b[1m1s\u001b[0m 42ms/step - accuracy: 0.5247 - loss: 1.2269 - val_accuracy: 0.7060 - val_loss: 0.7821\n",
            "Epoch 50/100\n",
            "\u001b[1m18/18\u001b[0m \u001b[32m━━━━━━━━━━━━━━━━━━━━\u001b[0m\u001b[37m\u001b[0m \u001b[1m1s\u001b[0m 43ms/step - accuracy: 0.5341 - loss: 1.2101 - val_accuracy: 0.7087 - val_loss: 0.7698\n",
            "Epoch 51/100\n",
            "\u001b[1m18/18\u001b[0m \u001b[32m━━━━━━━━━━━━━━━━━━━━\u001b[0m\u001b[37m\u001b[0m \u001b[1m1s\u001b[0m 43ms/step - accuracy: 0.5240 - loss: 1.2220 - val_accuracy: 0.7047 - val_loss: 0.7730\n",
            "Epoch 52/100\n",
            "\u001b[1m18/18\u001b[0m \u001b[32m━━━━━━━━━━━━━━━━━━━━\u001b[0m\u001b[37m\u001b[0m \u001b[1m1s\u001b[0m 43ms/step - accuracy: 0.5159 - loss: 1.2561 - val_accuracy: 0.6993 - val_loss: 0.8175\n",
            "Epoch 53/100\n",
            "\u001b[1m18/18\u001b[0m \u001b[32m━━━━━━━━━━━━━━━━━━━━\u001b[0m\u001b[37m\u001b[0m \u001b[1m1s\u001b[0m 43ms/step - accuracy: 0.5195 - loss: 1.2524 - val_accuracy: 0.7147 - val_loss: 0.7664\n",
            "Epoch 54/100\n",
            "\u001b[1m18/18\u001b[0m \u001b[32m━━━━━━━━━━━━━━━━━━━━\u001b[0m\u001b[37m\u001b[0m \u001b[1m1s\u001b[0m 43ms/step - accuracy: 0.5248 - loss: 1.2251 - val_accuracy: 0.6940 - val_loss: 0.7961\n",
            "Epoch 55/100\n",
            "\u001b[1m18/18\u001b[0m \u001b[32m━━━━━━━━━━━━━━━━━━━━\u001b[0m\u001b[37m\u001b[0m \u001b[1m1s\u001b[0m 44ms/step - accuracy: 0.5079 - loss: 1.2895 - val_accuracy: 0.6953 - val_loss: 0.7856\n",
            "Epoch 56/100\n",
            "\u001b[1m18/18\u001b[0m \u001b[32m━━━━━━━━━━━━━━━━━━━━\u001b[0m\u001b[37m\u001b[0m \u001b[1m1s\u001b[0m 44ms/step - accuracy: 0.5284 - loss: 1.2124 - val_accuracy: 0.7073 - val_loss: 0.7552\n",
            "Epoch 57/100\n",
            "\u001b[1m18/18\u001b[0m \u001b[32m━━━━━━━━━━━━━━━━━━━━\u001b[0m\u001b[37m\u001b[0m \u001b[1m1s\u001b[0m 43ms/step - accuracy: 0.5335 - loss: 1.2073 - val_accuracy: 0.7207 - val_loss: 0.7505\n",
            "Epoch 58/100\n",
            "\u001b[1m18/18\u001b[0m \u001b[32m━━━━━━━━━━━━━━━━━━━━\u001b[0m\u001b[37m\u001b[0m \u001b[1m1s\u001b[0m 44ms/step - accuracy: 0.5390 - loss: 1.1984 - val_accuracy: 0.6900 - val_loss: 0.7960\n",
            "Epoch 59/100\n",
            "\u001b[1m18/18\u001b[0m \u001b[32m━━━━━━━━━━━━━━━━━━━━\u001b[0m\u001b[37m\u001b[0m \u001b[1m1s\u001b[0m 44ms/step - accuracy: 0.5279 - loss: 1.2358 - val_accuracy: 0.7140 - val_loss: 0.7568\n",
            "Epoch 60/100\n",
            "\u001b[1m18/18\u001b[0m \u001b[32m━━━━━━━━━━━━━━━━━━━━\u001b[0m\u001b[37m\u001b[0m \u001b[1m1s\u001b[0m 43ms/step - accuracy: 0.5458 - loss: 1.1937 - val_accuracy: 0.7207 - val_loss: 0.7560\n",
            "Epoch 61/100\n",
            "\u001b[1m18/18\u001b[0m \u001b[32m━━━━━━━━━━━━━━━━━━━━\u001b[0m\u001b[37m\u001b[0m \u001b[1m1s\u001b[0m 43ms/step - accuracy: 0.5436 - loss: 1.1870 - val_accuracy: 0.7093 - val_loss: 0.7680\n",
            "Epoch 62/100\n",
            "\u001b[1m18/18\u001b[0m \u001b[32m━━━━━━━━━━━━━━━━━━━━\u001b[0m\u001b[37m\u001b[0m \u001b[1m1s\u001b[0m 45ms/step - accuracy: 0.5336 - loss: 1.1990 - val_accuracy: 0.7380 - val_loss: 0.6984\n",
            "Epoch 63/100\n",
            "\u001b[1m18/18\u001b[0m \u001b[32m━━━━━━━━━━━━━━━━━━━━\u001b[0m\u001b[37m\u001b[0m \u001b[1m1s\u001b[0m 44ms/step - accuracy: 0.5491 - loss: 1.1780 - val_accuracy: 0.6893 - val_loss: 0.8166\n",
            "Epoch 64/100\n",
            "\u001b[1m18/18\u001b[0m \u001b[32m━━━━━━━━━━━━━━━━━━━━\u001b[0m\u001b[37m\u001b[0m \u001b[1m1s\u001b[0m 44ms/step - accuracy: 0.5371 - loss: 1.2131 - val_accuracy: 0.7553 - val_loss: 0.7061\n",
            "Epoch 65/100\n",
            "\u001b[1m18/18\u001b[0m \u001b[32m━━━━━━━━━━━━━━━━━━━━\u001b[0m\u001b[37m\u001b[0m \u001b[1m1s\u001b[0m 45ms/step - accuracy: 0.5479 - loss: 1.1863 - val_accuracy: 0.7493 - val_loss: 0.6965\n",
            "Epoch 66/100\n",
            "\u001b[1m18/18\u001b[0m \u001b[32m━━━━━━━━━━━━━━━━━━━━\u001b[0m\u001b[37m\u001b[0m \u001b[1m1s\u001b[0m 43ms/step - accuracy: 0.5553 - loss: 1.1621 - val_accuracy: 0.7587 - val_loss: 0.6467\n",
            "Epoch 67/100\n",
            "\u001b[1m18/18\u001b[0m \u001b[32m━━━━━━━━━━━━━━━━━━━━\u001b[0m\u001b[37m\u001b[0m \u001b[1m1s\u001b[0m 43ms/step - accuracy: 0.5582 - loss: 1.1534 - val_accuracy: 0.7887 - val_loss: 0.6137\n",
            "Epoch 68/100\n",
            "\u001b[1m18/18\u001b[0m \u001b[32m━━━━━━━━━━━━━━━━━━━━\u001b[0m\u001b[37m\u001b[0m \u001b[1m1s\u001b[0m 43ms/step - accuracy: 0.5716 - loss: 1.1061 - val_accuracy: 0.7760 - val_loss: 0.6209\n",
            "Epoch 69/100\n",
            "\u001b[1m18/18\u001b[0m \u001b[32m━━━━━━━━━━━━━━━━━━━━\u001b[0m\u001b[37m\u001b[0m \u001b[1m1s\u001b[0m 45ms/step - accuracy: 0.5868 - loss: 1.0782 - val_accuracy: 0.7933 - val_loss: 0.5663\n",
            "Epoch 70/100\n",
            "\u001b[1m18/18\u001b[0m \u001b[32m━━━━━━━━━━━━━━━━━━━━\u001b[0m\u001b[37m\u001b[0m \u001b[1m1s\u001b[0m 43ms/step - accuracy: 0.5836 - loss: 1.0694 - val_accuracy: 0.8293 - val_loss: 0.4934\n",
            "Epoch 71/100\n",
            "\u001b[1m18/18\u001b[0m \u001b[32m━━━━━━━━━━━━━━━━━━━━\u001b[0m\u001b[37m\u001b[0m \u001b[1m1s\u001b[0m 43ms/step - accuracy: 0.6020 - loss: 1.0221 - val_accuracy: 0.8227 - val_loss: 0.4989\n",
            "Epoch 72/100\n",
            "\u001b[1m18/18\u001b[0m \u001b[32m━━━━━━━━━━━━━━━━━━━━\u001b[0m\u001b[37m\u001b[0m \u001b[1m1s\u001b[0m 43ms/step - accuracy: 0.5936 - loss: 1.0618 - val_accuracy: 0.8320 - val_loss: 0.4973\n",
            "Epoch 73/100\n",
            "\u001b[1m18/18\u001b[0m \u001b[32m━━━━━━━━━━━━━━━━━━━━\u001b[0m\u001b[37m\u001b[0m \u001b[1m1s\u001b[0m 45ms/step - accuracy: 0.6131 - loss: 1.0071 - val_accuracy: 0.8627 - val_loss: 0.4228\n",
            "Epoch 74/100\n",
            "\u001b[1m18/18\u001b[0m \u001b[32m━━━━━━━━━━━━━━━━━━━━\u001b[0m\u001b[37m\u001b[0m \u001b[1m1s\u001b[0m 44ms/step - accuracy: 0.6301 - loss: 0.9466 - val_accuracy: 0.9187 - val_loss: 0.3317\n",
            "Epoch 75/100\n",
            "\u001b[1m18/18\u001b[0m \u001b[32m━━━━━━━━━━━━━━━━━━━━\u001b[0m\u001b[37m\u001b[0m \u001b[1m1s\u001b[0m 44ms/step - accuracy: 0.6487 - loss: 0.8896 - val_accuracy: 0.9207 - val_loss: 0.2982\n",
            "Epoch 76/100\n",
            "\u001b[1m18/18\u001b[0m \u001b[32m━━━━━━━━━━━━━━━━━━━━\u001b[0m\u001b[37m\u001b[0m \u001b[1m1s\u001b[0m 43ms/step - accuracy: 0.6557 - loss: 0.8628 - val_accuracy: 0.9200 - val_loss: 0.2678\n",
            "Epoch 77/100\n",
            "\u001b[1m18/18\u001b[0m \u001b[32m━━━━━━━━━━━━━━━━━━━━\u001b[0m\u001b[37m\u001b[0m \u001b[1m1s\u001b[0m 44ms/step - accuracy: 0.6667 - loss: 0.8435 - val_accuracy: 0.8640 - val_loss: 0.3653\n",
            "Epoch 78/100\n",
            "\u001b[1m18/18\u001b[0m \u001b[32m━━━━━━━━━━━━━━━━━━━━\u001b[0m\u001b[37m\u001b[0m \u001b[1m1s\u001b[0m 43ms/step - accuracy: 0.6156 - loss: 1.0177 - val_accuracy: 0.8040 - val_loss: 0.4121\n",
            "Epoch 79/100\n",
            "\u001b[1m18/18\u001b[0m \u001b[32m━━━━━━━━━━━━━━━━━━━━\u001b[0m\u001b[37m\u001b[0m \u001b[1m1s\u001b[0m 45ms/step - accuracy: 0.6436 - loss: 0.9016 - val_accuracy: 0.9367 - val_loss: 0.2461\n",
            "Epoch 80/100\n",
            "\u001b[1m18/18\u001b[0m \u001b[32m━━━━━━━━━━━━━━━━━━━━\u001b[0m\u001b[37m\u001b[0m \u001b[1m1s\u001b[0m 44ms/step - accuracy: 0.6760 - loss: 0.8136 - val_accuracy: 0.9500 - val_loss: 0.2098\n",
            "Epoch 81/100\n",
            "\u001b[1m18/18\u001b[0m \u001b[32m━━━━━━━━━━━━━━━━━━━━\u001b[0m\u001b[37m\u001b[0m \u001b[1m1s\u001b[0m 44ms/step - accuracy: 0.6781 - loss: 0.8091 - val_accuracy: 0.9513 - val_loss: 0.1815\n",
            "Epoch 82/100\n",
            "\u001b[1m18/18\u001b[0m \u001b[32m━━━━━━━━━━━━━━━━━━━━\u001b[0m\u001b[37m\u001b[0m \u001b[1m1s\u001b[0m 43ms/step - accuracy: 0.6832 - loss: 0.7743 - val_accuracy: 0.9480 - val_loss: 0.1739\n",
            "Epoch 83/100\n",
            "\u001b[1m18/18\u001b[0m \u001b[32m━━━━━━━━━━━━━━━━━━━━\u001b[0m\u001b[37m\u001b[0m \u001b[1m1s\u001b[0m 43ms/step - accuracy: 0.6864 - loss: 0.7698 - val_accuracy: 0.9573 - val_loss: 0.1534\n",
            "Epoch 84/100\n",
            "\u001b[1m18/18\u001b[0m \u001b[32m━━━━━━━━━━━━━━━━━━━━\u001b[0m\u001b[37m\u001b[0m \u001b[1m1s\u001b[0m 47ms/step - accuracy: 0.6702 - loss: 0.7844 - val_accuracy: 0.9507 - val_loss: 0.1665\n",
            "Epoch 85/100\n",
            "\u001b[1m18/18\u001b[0m \u001b[32m━━━━━━━━━━━━━━━━━━━━\u001b[0m\u001b[37m\u001b[0m \u001b[1m1s\u001b[0m 43ms/step - accuracy: 0.6488 - loss: 0.9017 - val_accuracy: 0.9253 - val_loss: 0.2485\n",
            "Epoch 86/100\n",
            "\u001b[1m18/18\u001b[0m \u001b[32m━━━━━━━━━━━━━━━━━━━━\u001b[0m\u001b[37m\u001b[0m \u001b[1m1s\u001b[0m 43ms/step - accuracy: 0.6568 - loss: 0.8611 - val_accuracy: 0.9333 - val_loss: 0.2503\n",
            "Epoch 87/100\n",
            "\u001b[1m18/18\u001b[0m \u001b[32m━━━━━━━━━━━━━━━━━━━━\u001b[0m\u001b[37m\u001b[0m \u001b[1m1s\u001b[0m 43ms/step - accuracy: 0.6710 - loss: 0.8090 - val_accuracy: 0.9707 - val_loss: 0.1328\n",
            "Epoch 88/100\n",
            "\u001b[1m18/18\u001b[0m \u001b[32m━━━━━━━━━━━━━━━━━━━━\u001b[0m\u001b[37m\u001b[0m \u001b[1m1s\u001b[0m 45ms/step - accuracy: 0.6922 - loss: 0.7366 - val_accuracy: 0.9660 - val_loss: 0.1180\n",
            "Epoch 89/100\n",
            "\u001b[1m18/18\u001b[0m \u001b[32m━━━━━━━━━━━━━━━━━━━━\u001b[0m\u001b[37m\u001b[0m \u001b[1m1s\u001b[0m 44ms/step - accuracy: 0.6973 - loss: 0.7319 - val_accuracy: 0.9707 - val_loss: 0.1068\n",
            "Epoch 90/100\n",
            "\u001b[1m18/18\u001b[0m \u001b[32m━━━━━━━━━━━━━━━━━━━━\u001b[0m\u001b[37m\u001b[0m \u001b[1m1s\u001b[0m 43ms/step - accuracy: 0.7058 - loss: 0.7115 - val_accuracy: 0.9827 - val_loss: 0.0877\n",
            "Epoch 91/100\n",
            "\u001b[1m18/18\u001b[0m \u001b[32m━━━━━━━━━━━━━━━━━━━━\u001b[0m\u001b[37m\u001b[0m \u001b[1m1s\u001b[0m 44ms/step - accuracy: 0.6994 - loss: 0.7216 - val_accuracy: 0.9813 - val_loss: 0.0939\n",
            "Epoch 92/100\n",
            "\u001b[1m18/18\u001b[0m \u001b[32m━━━━━━━━━━━━━━━━━━━━\u001b[0m\u001b[37m\u001b[0m \u001b[1m1s\u001b[0m 44ms/step - accuracy: 0.6986 - loss: 0.7193 - val_accuracy: 0.9800 - val_loss: 0.0857\n",
            "Epoch 93/100\n",
            "\u001b[1m18/18\u001b[0m \u001b[32m━━━━━━━━━━━━━━━━━━━━\u001b[0m\u001b[37m\u001b[0m \u001b[1m1s\u001b[0m 43ms/step - accuracy: 0.6949 - loss: 0.7179 - val_accuracy: 0.9813 - val_loss: 0.0735\n",
            "Epoch 94/100\n",
            "\u001b[1m18/18\u001b[0m \u001b[32m━━━━━━━━━━━━━━━━━━━━\u001b[0m\u001b[37m\u001b[0m \u001b[1m1s\u001b[0m 43ms/step - accuracy: 0.6982 - loss: 0.7129 - val_accuracy: 0.9773 - val_loss: 0.0821\n",
            "Epoch 95/100\n",
            "\u001b[1m18/18\u001b[0m \u001b[32m━━━━━━━━━━━━━━━━━━━━\u001b[0m\u001b[37m\u001b[0m \u001b[1m1s\u001b[0m 43ms/step - accuracy: 0.6929 - loss: 0.7048 - val_accuracy: 0.9853 - val_loss: 0.0607\n",
            "Epoch 96/100\n",
            "\u001b[1m18/18\u001b[0m \u001b[32m━━━━━━━━━━━━━━━━━━━━\u001b[0m\u001b[37m\u001b[0m \u001b[1m1s\u001b[0m 44ms/step - accuracy: 0.7057 - loss: 0.6935 - val_accuracy: 0.9860 - val_loss: 0.0584\n",
            "Epoch 97/100\n",
            "\u001b[1m18/18\u001b[0m \u001b[32m━━━━━━━━━━━━━━━━━━━━\u001b[0m\u001b[37m\u001b[0m \u001b[1m1s\u001b[0m 42ms/step - accuracy: 0.7062 - loss: 0.6860 - val_accuracy: 0.9873 - val_loss: 0.0529\n",
            "Epoch 98/100\n",
            "\u001b[1m18/18\u001b[0m \u001b[32m━━━━━━━━━━━━━━━━━━━━\u001b[0m\u001b[37m\u001b[0m \u001b[1m1s\u001b[0m 42ms/step - accuracy: 0.7067 - loss: 0.6804 - val_accuracy: 0.9920 - val_loss: 0.0496\n",
            "Epoch 99/100\n",
            "\u001b[1m18/18\u001b[0m \u001b[32m━━━━━━━━━━━━━━━━━━━━\u001b[0m\u001b[37m\u001b[0m \u001b[1m1s\u001b[0m 43ms/step - accuracy: 0.7046 - loss: 0.6871 - val_accuracy: 0.9933 - val_loss: 0.0448\n",
            "Epoch 100/100\n",
            "\u001b[1m18/18\u001b[0m \u001b[32m━━━━━━━━━━━━━━━━━━━━\u001b[0m\u001b[37m\u001b[0m \u001b[1m1s\u001b[0m 43ms/step - accuracy: 0.6981 - loss: 0.6843 - val_accuracy: 0.9920 - val_loss: 0.0395\n"
          ]
        }
      ],
      "source": [
        "history = model.fit(\n",
        "    x=x,\n",
        "    y=y,\n",
        "    epochs=epochs_num,\n",
        "    batch_size=batch_size,\n",
        "    validation_split=0.1,\n",
        "    callbacks=[tensorboard_callback]\n",
        ")"
      ]
    },
    {
      "cell_type": "code",
      "execution_count": 218,
      "metadata": {
        "id": "fZ7OxDoL0OR1"
      },
      "outputs": [],
      "source": [
        "# Renders the charts for training accuracy and loss.\n",
        "def render_training_history(training_history):\n",
        "    loss = training_history.history['loss']\n",
        "    val_loss = training_history.history['val_loss']\n",
        "\n",
        "    accuracy = training_history.history['accuracy']\n",
        "    val_accuracy = training_history.history['val_accuracy']\n",
        "\n",
        "    plt.figure(figsize=(14, 4))\n",
        "\n",
        "    plt.subplot(1, 2, 1)\n",
        "    plt.title('Loss')\n",
        "    plt.xlabel('Epoch')\n",
        "    plt.ylabel('Loss')\n",
        "    plt.plot(loss, label='Training set')\n",
        "    plt.plot(val_loss, label='Test set', linestyle='--')\n",
        "    plt.legend()\n",
        "    plt.grid(linestyle='--', linewidth=1, alpha=0.5)\n",
        "\n",
        "    plt.subplot(1, 2, 2)\n",
        "    plt.title('Accuracy')\n",
        "    plt.xlabel('Epoch')\n",
        "    plt.ylabel('Accuracy')\n",
        "    plt.plot(accuracy, label='Training set')\n",
        "    plt.plot(val_accuracy, label='Test set', linestyle='--')\n",
        "    plt.legend()\n",
        "    plt.grid(linestyle='--', linewidth=1, alpha=0.5)\n",
        "\n",
        "    plt.show()"
      ]
    },
    {
      "cell_type": "code",
      "execution_count": 219,
      "metadata": {
        "id": "JUy-Pf-20OR1",
        "outputId": "0d6717b3-8bd4-408e-ad86-4163529df80a"
      },
      "outputs": [
        {
          "data": {
            "image/png": "[encoded data removed]",
            "text/plain": [
              "<Figure size 1400x400 with 2 Axes>"
            ]
          },
          "metadata": {},
          "output_type": "display_data"
        }
      ],
      "source": [
        "render_training_history(history)"
      ]
    },
    {
      "cell_type": "markdown",
      "metadata": {
        "id": "3s5YX-P-0OR1"
      },
      "source": [
        "## Test a dataset"
      ]
    },
    {
      "cell_type": "code",
      "execution_count": 220,
      "metadata": {
        "id": "4AQLDsG30OR1",
        "outputId": "04f86115-f677-4f20-ff07-9321c1d8a820"
      },
      "outputs": [
        {
          "name": "stdout",
          "output_type": "stream",
          "text": [
            "x_test:\n",
            " [[[0 0 0 0 0 0 0 0 1 0 0 0]\n",
            "  [0 0 0 0 0 0 0 0 0 0 1 0]\n",
            "  [0 0 1 0 0 0 0 0 0 0 0 0]\n",
            "  [0 1 0 0 0 0 0 0 0 0 0 0]\n",
            "  [0 0 0 0 0 0 0 0 0 0 0 1]\n",
            "  [0 0 0 0 0 0 0 0 0 0 0 1]\n",
            "  [0 0 0 0 0 0 0 0 0 0 0 1]]]\n",
            "\n",
            "y_test:\n",
            " [[[0 0 1 0 0 0 0 0 0 0 0 0]\n",
            "  [0 0 0 0 0 0 0 0 0 1 0 0]\n",
            "  [0 0 0 0 0 0 0 0 0 0 0 1]]]\n"
          ]
        }
      ],
      "source": [
        "x_test, y_test = generate_dataset(dataset_size, sequence_length, max_num, vocabulary)\n",
        "\n",
        "print('x_test:\\n', x_test[:1])\n",
        "print()\n",
        "print('y_test:\\n', y_test[:1])"
      ]
    },
    {
      "cell_type": "code",
      "execution_count": 221,
      "metadata": {
        "id": "PtRw5gDW0OR2",
        "outputId": "af2434f3-785d-4c8c-fb4d-c66de8ec168e"
      },
      "outputs": [
        {
          "name": "stdout",
          "output_type": "stream",
          "text": [
            "\u001b[1m157/157\u001b[0m \u001b[32m━━━━━━━━━━━━━━━━━━━━\u001b[0m\u001b[37m\u001b[0m \u001b[1m1s\u001b[0m 7ms/step\n",
            "predictions.shape:  (5000, 3, 12)\n",
            "\n",
            "predictions[0]:\n",
            " [[6.8379354e-06 2.4108715e-04 9.9781632e-01 1.8328720e-03 5.7488028e-06\n",
            "  3.1993056e-06 2.5180066e-07 2.2990822e-07 1.2357453e-06 5.4041193e-05\n",
            "  2.5331342e-06 3.5685611e-05]\n",
            " [1.1442264e-02 1.6337022e-04 1.2990646e-04 2.1250822e-05 8.0984901e-06\n",
            "  2.2860639e-05 4.3306351e-05 5.9873739e-04 1.3784198e-02 9.7263449e-01\n",
            "  1.2274027e-05 1.1393288e-03]\n",
            " [1.3575290e-07 2.7136718e-07 2.8744373e-07 3.7324543e-08 6.6082584e-09\n",
            "  1.9416937e-08 1.4921085e-08 2.8288143e-08 5.7532100e-07 4.2636248e-06\n",
            "  1.3360111e-07 9.9999428e-01]]\n",
            "\n",
            "predictions[1]:\n",
            " [[5.40986207e-08 1.79345261e-06 1.39835095e-08 1.41296866e-07\n",
            "  5.96042241e-07 2.00247041e-06 9.89422319e-04 9.98963952e-01\n",
            "  3.89086526e-05 1.63747899e-07 1.16533307e-07 2.82309065e-06]\n",
            " [1.28165746e-04 4.07123286e-03 9.85246539e-01 9.50965844e-03\n",
            "  3.78509663e-04 1.99441674e-05 6.97474343e-06 1.28203283e-06\n",
            "  3.83555232e-07 8.86144044e-05 1.79798144e-06 5.46945550e-04]\n",
            " [5.56761734e-06 1.14167979e-05 1.87240641e-06 1.44940998e-07\n",
            "  1.56041455e-08 3.48230778e-08 1.45240087e-08 9.70233405e-09\n",
            "  1.39897651e-07 2.03870559e-06 1.46331274e-07 9.99978662e-01]]\n"
          ]
        }
      ],
      "source": [
        "predictions = model.predict(x_test)\n",
        "\n",
        "print('predictions.shape: ', predictions.shape)\n",
        "print()\n",
        "print('predictions[0]:\\n', predictions[0])\n",
        "print()\n",
        "print('predictions[1]:\\n', predictions[1])"
      ]
    },
    {
      "cell_type": "code",
      "execution_count": 222,
      "metadata": {
        "id": "Xz2e5Rqt0OR2",
        "outputId": "952bc028-f8fd-4a75-9203-4a4ce403246f"
      },
      "outputs": [
        {
          "name": "stdout",
          "output_type": "stream",
          "text": [
            "8+21    = 29  [predict: 29 ] ✓\n",
            "44+28   = 72  [predict: 72 ] ✓\n",
            "70+5    = 75  [predict: 75 ] ✓\n",
            "9+89    = 98  [predict: 98 ] ✓\n",
            "32+74   = 106 [predict: 106] ✓\n",
            "30+85   = 115 [predict: 115] ✓\n",
            "22+69   = 91  [predict: 91 ] ✓\n",
            "7+91    = 98  [predict: 98 ] ✓\n",
            "31+15   = 46  [predict: 46 ] ✓\n",
            "11+14   = 25  [predict: 25 ] ✓\n",
            "87+21   = 108 [predict: 108] ✓\n",
            "26+67   = 93  [predict: 93 ] ✓\n",
            "56+22   = 78  [predict: 78 ] ✓\n",
            "28+37   = 65  [predict: 65 ] ✓\n",
            "25+37   = 62  [predict: 62 ] ✓\n",
            "76+59   = 135 [predict: 135] ✓\n",
            "13+7    = 20  [predict: 20 ] ✓\n",
            "24+24   = 48  [predict: 48 ] ✓\n",
            "69+82   = 151 [predict: 151] ✓\n",
            "39+83   = 122 [predict: 122] ✓\n",
            "75+14   = 89  [predict: 89 ] ✓\n",
            "59+73   = 132 [predict: 132] ✓\n",
            "16+65   = 81  [predict: 81 ] ✓\n",
            "28+21   = 49  [predict: 49 ] ✓\n",
            "64+29   = 93  [predict: 93 ] ✓\n",
            "100+28  = 128 [predict: 128] ✓\n",
            "9+14    = 23  [predict: 23 ] ✓\n",
            "61+58   = 119 [predict: 119] ✓\n",
            "72+65   = 137 [predict: 137] ✓\n",
            "68+94   = 162 [predict: 162] ✓\n",
            "27+58   = 85  [predict: 85 ] ✓\n",
            "25+79   = 104 [predict: 104] ✓\n",
            "27+69   = 96  [predict: 96 ] ✓\n",
            "96+87   = 183 [predict: 183] ✓\n",
            "11+76   = 87  [predict: 87 ] ✓\n",
            "40+90   = 130 [predict: 130] ✓\n",
            "34+53   = 87  [predict: 87 ] ✓\n",
            "49+64   = 113 [predict: 113] ✓\n",
            "58+61   = 119 [predict: 119] ✓\n",
            "71+12   = 83  [predict: 83 ] ✓\n"
          ]
        }
      ],
      "source": [
        "x_encoded = [decode(example, vocabulary) for example in x_test]\n",
        "y_expected = [decode(label, vocabulary) for label in y_test]\n",
        "y_predicted = [decode(prediction, vocabulary) for prediction in predictions]\n",
        "\n",
        "explore_num = 40\n",
        "for example, label, prediction in list(zip(x_encoded, y_expected, y_predicted))[:explore_num]:\n",
        "    checkmark = '✓' if label == prediction else ''\n",
        "    print('{} = {} [predict: {}] {}'.format(example, label, prediction, checkmark))"
      ]
    },
    {
      "cell_type": "markdown",
      "metadata": {
        "id": "lAfGFP0F0OR3"
      },
      "source": [
        "## Debugging the model with TensorBoard\n",
        "\n",
        "[TensorBoard](https://www.tensorflow.org/tensorboard) is a tool for providing the measurements and visualizations needed during the machine learning workflow. It enables tracking experiment metrics like loss and accuracy, visualizing the model graph, projecting embeddings to a lower dimensional space, and much more."
      ]
    },
    {
      "cell_type": "code",
      "execution_count": 223,
      "metadata": {
        "id": "EFCZv1PO0OR3",
        "outputId": "20bf6d41-be1e-4f64-a1c2-a70231c9b162"
      },
      "outputs": [
        {
          "data": {
            "text/plain": [
              "Reusing TensorBoard on port 6006 (pid 37688), started 1:11:10 ago. (Use '!kill 37688' to kill it.)"
            ]
          },
          "metadata": {},
          "output_type": "display_data"
        },
        {
          "data": {
            "text/html": [
              "\n",
              "      <iframe id=\"tensorboard-frame-986d22a3cff5d140\" width=\"100%\" height=\"800\" frameborder=\"0\">\n",
              "      </iframe>\n",
              "      <script>\n",
              "        (function() {\n",
              "          const frame = document.getElementById(\"tensorboard-frame-986d22a3cff5d140\");\n",
              "          const url = new URL(\"http://localhost\");\n",
              "          const port = 6006;\n",
              "          if (port) {\n",
              "            url.port = port;\n",
              "          }\n",
              "          frame.src = url;\n",
              "        })();\n",
              "      </script>\n",
              "    "
            ],
            "text/plain": [
              "<IPython.core.display.HTML object>"
            ]
          },
          "metadata": {},
          "output_type": "display_data"
        }
      ],
      "source": [
        "%tensorboard --logdir .logs/fit"
      ]
    },
    {
      "cell_type": "markdown",
      "metadata": {
        "id": "T1LxOK5G0OR3"
      },
      "source": [
        "## Save a model"
      ]
    },
    {
      "cell_type": "code",
      "execution_count": 224,
      "metadata": {
        "id": "WQRMcwNa0OR3"
      },
      "outputs": [
        {
          "name": "stderr",
          "output_type": "stream",
          "text": [
            "WARNING:absl:The `save_format` argument is deprecated in Keras 3. We recommend removing this argument as it can be inferred from the file path. Received: save_format=h5\n",
            "WARNING:absl:You are saving your model as an HDF5 file via `model.save()` or `keras.saving.save_model(model)`. This file format is considered legacy. We recommend using instead the native Keras format, e.g. `model.save('my_model.keras')` or `keras.saving.save_model(model, 'my_model.keras')`. \n"
          ]
        }
      ],
      "source": [
        "model_name = 'numbers_summation_rnn.h5'\n",
        "model.save(model_name, save_format='h5')"
      ]
    }
  ],
  "metadata": {
    "colab": {
      "provenance": []
    },
    "kernelspec": {
      "display_name": "Python 3",
      "language": "python",
      "name": "python3"
    },
    "language_info": {
      "codemirror_mode": {
        "name": "ipython",
        "version": 3
      },
      "file_extension": ".py",
      "mimetype": "text/x-python",
      "name": "python",
      "nbconvert_exporter": "python",
      "pygments_lexer": "ipython3",
      "version": "3.10.11"
    }
  },
  "nbformat": 4,
  "nbformat_minor": 0
}
